{
 "cells": [
  {
   "cell_type": "markdown",
   "metadata": {},
   "source": [
    "This notebook constructs a simple model of evolving state number densities for a single mass bin.  The method is tested by simulating some data and fitting it, recovering the correct parameters.  The fit may be performed using direct minimization, or MCMC in order to explore the parameter space."
   ]
  },
  {
   "cell_type": "code",
   "execution_count": 1,
   "metadata": {},
   "outputs": [],
   "source": [
    "from matplotlib import pyplot as plt\n",
    "import pandas as pd\n",
    "import numpy as np\n",
    "from scipy import stats\n",
    "from scipy.integrate import odeint\n",
    "from astropy import cosmology\n",
    "from IPython.display import Image"
   ]
  },
  {
   "cell_type": "code",
   "execution_count": 2,
   "metadata": {},
   "outputs": [],
   "source": [
    "# Steven's emcee stuff\n",
    "from convenience import run_emcee\n",
    "from pdfs import norm_logpdf, beta_logpdf\n",
    "import plots"
   ]
  },
  {
   "cell_type": "code",
   "execution_count": 3,
   "metadata": {
    "collapsed": true
   },
   "outputs": [],
   "source": [
    "%matplotlib inline\n",
    "# better-looking plots\n",
    "plt.rcParams['font.family'] = 'serif'\n",
    "plt.rcParams['figure.figsize'] = (10.0, 8.0)\n",
    "plt.rcParams['font.size'] = 12"
   ]
  },
  {
   "cell_type": "code",
   "execution_count": 4,
   "metadata": {
    "collapsed": true
   },
   "outputs": [],
   "source": [
    "C = cosmology.FlatLambdaCDM(70.0, 0.3)"
   ]
  },
  {
   "cell_type": "code",
   "execution_count": 5,
   "metadata": {
    "collapsed": true
   },
   "outputs": [],
   "source": [
    "states = pd.Index(('BD', 'RD', 'RE'))\n",
    "nStates = len(states)"
   ]
  },
  {
   "cell_type": "code",
   "execution_count": 6,
   "metadata": {},
   "outputs": [],
   "source": [
    "rate_labels = [['$r_{' + '{} \\\\rightarrow {}'.format(s2, s1) + '}$' for s2 in states] for s1 in states]\n",
    "rate_labels = pd.DataFrame(index='to ' + states, columns='from ' + states, data=rate_labels)\n",
    "rate_evol_labels = rate_labels.replace('\\$r', '$\\dot{r}', regex=True)\n",
    "N_labels = '$N_{' + states + '}$'"
   ]
  },
  {
   "cell_type": "code",
   "execution_count": 7,
   "metadata": {},
   "outputs": [
    {
     "data": {
      "text/plain": [
       "Index(['$N_{BD}$', '$N_{RD}$', '$N_{RE}$'], dtype='object')"
      ]
     },
     "execution_count": 7,
     "metadata": {},
     "output_type": "execute_result"
    }
   ],
   "source": [
    "N_labels"
   ]
  },
  {
   "cell_type": "code",
   "execution_count": 8,
   "metadata": {},
   "outputs": [
    {
     "data": {
      "text/html": [
       "<div>\n",
       "<style>\n",
       "    .dataframe thead tr:only-child th {\n",
       "        text-align: right;\n",
       "    }\n",
       "\n",
       "    .dataframe thead th {\n",
       "        text-align: left;\n",
       "    }\n",
       "\n",
       "    .dataframe tbody tr th {\n",
       "        vertical-align: top;\n",
       "    }\n",
       "</style>\n",
       "<table border=\"1\" class=\"dataframe\">\n",
       "  <thead>\n",
       "    <tr style=\"text-align: right;\">\n",
       "      <th></th>\n",
       "      <th>from BD</th>\n",
       "      <th>from RD</th>\n",
       "      <th>from RE</th>\n",
       "    </tr>\n",
       "  </thead>\n",
       "  <tbody>\n",
       "    <tr>\n",
       "      <th>to BD</th>\n",
       "      <td>$r_{BD \\rightarrow BD}$</td>\n",
       "      <td>$r_{RD \\rightarrow BD}$</td>\n",
       "      <td>$r_{RE \\rightarrow BD}$</td>\n",
       "    </tr>\n",
       "    <tr>\n",
       "      <th>to RD</th>\n",
       "      <td>$r_{BD \\rightarrow RD}$</td>\n",
       "      <td>$r_{RD \\rightarrow RD}$</td>\n",
       "      <td>$r_{RE \\rightarrow RD}$</td>\n",
       "    </tr>\n",
       "    <tr>\n",
       "      <th>to RE</th>\n",
       "      <td>$r_{BD \\rightarrow RE}$</td>\n",
       "      <td>$r_{RD \\rightarrow RE}$</td>\n",
       "      <td>$r_{RE \\rightarrow RE}$</td>\n",
       "    </tr>\n",
       "  </tbody>\n",
       "</table>\n",
       "</div>"
      ],
      "text/plain": [
       "                       from BD                  from RD  \\\n",
       "to BD  $r_{BD \\rightarrow BD}$  $r_{RD \\rightarrow BD}$   \n",
       "to RD  $r_{BD \\rightarrow RD}$  $r_{RD \\rightarrow RD}$   \n",
       "to RE  $r_{BD \\rightarrow RE}$  $r_{RD \\rightarrow RE}$   \n",
       "\n",
       "                       from RE  \n",
       "to BD  $r_{RE \\rightarrow BD}$  \n",
       "to RD  $r_{RE \\rightarrow RD}$  \n",
       "to RE  $r_{RE \\rightarrow RE}$  "
      ]
     },
     "execution_count": 8,
     "metadata": {},
     "output_type": "execute_result"
    }
   ],
   "source": [
    "rate_labels"
   ]
  },
  {
   "cell_type": "code",
   "execution_count": 9,
   "metadata": {},
   "outputs": [
    {
     "data": {
      "text/html": [
       "<div>\n",
       "<style>\n",
       "    .dataframe thead tr:only-child th {\n",
       "        text-align: right;\n",
       "    }\n",
       "\n",
       "    .dataframe thead th {\n",
       "        text-align: left;\n",
       "    }\n",
       "\n",
       "    .dataframe tbody tr th {\n",
       "        vertical-align: top;\n",
       "    }\n",
       "</style>\n",
       "<table border=\"1\" class=\"dataframe\">\n",
       "  <thead>\n",
       "    <tr style=\"text-align: right;\">\n",
       "      <th></th>\n",
       "      <th>from BD</th>\n",
       "      <th>from RD</th>\n",
       "      <th>from RE</th>\n",
       "    </tr>\n",
       "  </thead>\n",
       "  <tbody>\n",
       "    <tr>\n",
       "      <th>to BD</th>\n",
       "      <td>$\\dot{r}_{BD \\rightarrow BD}$</td>\n",
       "      <td>$\\dot{r}_{RD \\rightarrow BD}$</td>\n",
       "      <td>$\\dot{r}_{RE \\rightarrow BD}$</td>\n",
       "    </tr>\n",
       "    <tr>\n",
       "      <th>to RD</th>\n",
       "      <td>$\\dot{r}_{BD \\rightarrow RD}$</td>\n",
       "      <td>$\\dot{r}_{RD \\rightarrow RD}$</td>\n",
       "      <td>$\\dot{r}_{RE \\rightarrow RD}$</td>\n",
       "    </tr>\n",
       "    <tr>\n",
       "      <th>to RE</th>\n",
       "      <td>$\\dot{r}_{BD \\rightarrow RE}$</td>\n",
       "      <td>$\\dot{r}_{RD \\rightarrow RE}$</td>\n",
       "      <td>$\\dot{r}_{RE \\rightarrow RE}$</td>\n",
       "    </tr>\n",
       "  </tbody>\n",
       "</table>\n",
       "</div>"
      ],
      "text/plain": [
       "                             from BD                        from RD  \\\n",
       "to BD  $\\dot{r}_{BD \\rightarrow BD}$  $\\dot{r}_{RD \\rightarrow BD}$   \n",
       "to RD  $\\dot{r}_{BD \\rightarrow RD}$  $\\dot{r}_{RD \\rightarrow RD}$   \n",
       "to RE  $\\dot{r}_{BD \\rightarrow RE}$  $\\dot{r}_{RD \\rightarrow RE}$   \n",
       "\n",
       "                             from RE  \n",
       "to BD  $\\dot{r}_{RE \\rightarrow BD}$  \n",
       "to RD  $\\dot{r}_{RE \\rightarrow RD}$  \n",
       "to RE  $\\dot{r}_{RE \\rightarrow RE}$  "
      ]
     },
     "execution_count": 9,
     "metadata": {},
     "output_type": "execute_result"
    }
   ],
   "source": [
    "rate_evol_labels"
   ]
  },
  {
   "cell_type": "markdown",
   "metadata": {},
   "source": [
    "Basic differential equations:\n",
    "\n",
    "$\\frac{dN_{BD}}{dt} = - N_{BD} \\, (r_{BD \\rightarrow RD} + r_{BD \\rightarrow RE})$"
   ]
  },
  {
   "cell_type": "markdown",
   "metadata": {},
   "source": [
    "$\\frac{dN_{RD}}{dt} = - N_{RD} \\, r_{RD \\rightarrow RE} + N_{BD} \\, r_{BD \\rightarrow RD}$"
   ]
  },
  {
   "cell_type": "markdown",
   "metadata": {},
   "source": [
    "$\\frac{dN_{RE}}{dt} = + N_{BD} \\, r_{BD \\rightarrow RE} + N_{RD} \\, r_{RD \\rightarrow RE}$"
   ]
  },
  {
   "cell_type": "code",
   "execution_count": 10,
   "metadata": {},
   "outputs": [
    {
     "data": {
      "text/html": [
       "<div>\n",
       "<style>\n",
       "    .dataframe thead tr:only-child th {\n",
       "        text-align: right;\n",
       "    }\n",
       "\n",
       "    .dataframe thead th {\n",
       "        text-align: left;\n",
       "    }\n",
       "\n",
       "    .dataframe tbody tr th {\n",
       "        vertical-align: top;\n",
       "    }\n",
       "</style>\n",
       "<table border=\"1\" class=\"dataframe\">\n",
       "  <thead>\n",
       "    <tr style=\"text-align: right;\">\n",
       "      <th></th>\n",
       "      <th>from BD</th>\n",
       "      <th>from RD</th>\n",
       "      <th>from RE</th>\n",
       "    </tr>\n",
       "  </thead>\n",
       "  <tbody>\n",
       "    <tr>\n",
       "      <th>to BD</th>\n",
       "      <td>-0.06</td>\n",
       "      <td>0.00</td>\n",
       "      <td>0.0</td>\n",
       "    </tr>\n",
       "    <tr>\n",
       "      <th>to RD</th>\n",
       "      <td>0.05</td>\n",
       "      <td>-0.05</td>\n",
       "      <td>0.0</td>\n",
       "    </tr>\n",
       "    <tr>\n",
       "      <th>to RE</th>\n",
       "      <td>0.01</td>\n",
       "      <td>0.05</td>\n",
       "      <td>-0.0</td>\n",
       "    </tr>\n",
       "  </tbody>\n",
       "</table>\n",
       "</div>"
      ],
      "text/plain": [
       "       from BD  from RD  from RE\n",
       "to BD    -0.06     0.00      0.0\n",
       "to RD     0.05    -0.05      0.0\n",
       "to RE     0.01     0.05     -0.0"
      ]
     },
     "execution_count": 10,
     "metadata": {},
     "output_type": "execute_result"
    }
   ],
   "source": [
    "# Set rates per galaxy in Gyr^{-1} at fiducial redshift\n",
    "rates = pd.DataFrame(index='to ' + states, columns='from ' + states,\n",
    "                     data=np.zeros((nStates, nStates)))\n",
    "rates['from BD']['to RD'] = 0.05\n",
    "rates['from RD']['to RE'] = 0.05\n",
    "rates['from BD']['to RE'] = 0.01\n",
    "for s in states:\n",
    "    rates['from ' + s]['to ' + s] = 0\n",
    "    rates['from ' + s]['to ' + s] = - rates['from ' + s].sum()\n",
    "rates"
   ]
  },
  {
   "cell_type": "code",
   "execution_count": 11,
   "metadata": {
    "collapsed": true
   },
   "outputs": [],
   "source": [
    "# Modelling rates as linear function of cosmic time\n",
    "#(for simplicity, should probably choose someting more appropriate)\n",
    "rates_evol = pd.DataFrame(index='to ' + states, columns='from ' + states,\n",
    "                     data=np.zeros((nStates, nStates)))\n",
    "rates_evol['from BD']['to RD'] = 0.01  # comment out this to have no evolution!"
   ]
  },
  {
   "cell_type": "code",
   "execution_count": 12,
   "metadata": {
    "collapsed": true
   },
   "outputs": [],
   "source": [
    "def rates_function(rates, rates_evol, t, t0):\n",
    "    rates = rates + rates_evol * (t - t0)\n",
    "    # * For a closed model the columns of the rates matrix must sum to zero\n",
    "    #   so there is no creation/destruction of galaxies, this is enforced here.\n",
    "    # * Creation/destruction of galaxies basically means they move in to or\n",
    "    #   out of the sample given the selection criteria.\n",
    "    # * Another possibility is merging, where one galaxies is 'destroyed' in\n",
    "    #   each merger.\n",
    "    # * If one wishes to create/destroy galaxies then that could perhaps\n",
    "    #   be achieved by allowing rates to not sum to zero in each column.\n",
    "    #   However, the total numbers of galaxies moving between states are\n",
    "    #   proportional to the number currently in the initial state, which\n",
    "    #   probably doesn't make much sense for creation.\n",
    "    #   Alternatively, one could add an additional state(s) representing the pool(s)\n",
    "    #   from which galaxies are created/destroyed (but this would be evolved itself).\n",
    "    #   Or one could add additional terms in the differential equation to\n",
    "    #   describe the creation/destruction of galaxies.\n",
    "    # * Another issue is multiple selection criteria, e.g. mass bins.\n",
    "    #   These are essentially different states, and we can model transitions\n",
    "    #   between them in the same manner: in a small time a galaxy in a given state\n",
    "    #   will have a particular (potentially time dependent) probability of moving\n",
    "    #   from one mass bin to the next\n",
    "    #   (proportional to [SFR + merger accretion rate] / mass_bin_width).\n",
    "    # * In principle, the rates related to the destruction of galaxies in particular\n",
    "    #   states due to merging and the mass growth of the merger remnant are related.\n",
    "    #   In practise this would be pretty complex to manage unless we make some\n",
    "    #   strict assumptions.  For example, we could assume that only galaxies in the\n",
    "    #   same state merge (hence ~doubling their mass) and thus require the\n",
    "    #   destruction rate to be proportional to the mass bin transition rate\n",
    "    #   (where the factor depends on the width of the mass bin).\n",
    "    #   If we get too complicated, then it would make more sense to simulate a large\n",
    "    #   population of individual galaxies rather than consider a small set of states.\n",
    "    for s in states:\n",
    "        rates.loc['to ' + s, 'from ' + s] = 0\n",
    "        rates.loc['to ' + s, 'from ' + s] = - rates['from ' + s].sum()\n",
    "    return rates"
   ]
  },
  {
   "cell_type": "code",
   "execution_count": 13,
   "metadata": {},
   "outputs": [
    {
     "data": {
      "text/html": [
       "<div>\n",
       "<style>\n",
       "    .dataframe thead tr:only-child th {\n",
       "        text-align: right;\n",
       "    }\n",
       "\n",
       "    .dataframe thead th {\n",
       "        text-align: left;\n",
       "    }\n",
       "\n",
       "    .dataframe tbody tr th {\n",
       "        vertical-align: top;\n",
       "    }\n",
       "</style>\n",
       "<table border=\"1\" class=\"dataframe\">\n",
       "  <thead>\n",
       "    <tr style=\"text-align: right;\">\n",
       "      <th></th>\n",
       "      <th>from BD</th>\n",
       "      <th>from RD</th>\n",
       "      <th>from RE</th>\n",
       "    </tr>\n",
       "  </thead>\n",
       "  <tbody>\n",
       "    <tr>\n",
       "      <th>to BD</th>\n",
       "      <td>-0.102965</td>\n",
       "      <td>0.00</td>\n",
       "      <td>0.0</td>\n",
       "    </tr>\n",
       "    <tr>\n",
       "      <th>to RD</th>\n",
       "      <td>0.092965</td>\n",
       "      <td>-0.05</td>\n",
       "      <td>0.0</td>\n",
       "    </tr>\n",
       "    <tr>\n",
       "      <th>to RE</th>\n",
       "      <td>0.010000</td>\n",
       "      <td>0.05</td>\n",
       "      <td>-0.0</td>\n",
       "    </tr>\n",
       "  </tbody>\n",
       "</table>\n",
       "</div>"
      ],
      "text/plain": [
       "        from BD  from RD  from RE\n",
       "to BD -0.102965     0.00      0.0\n",
       "to RD  0.092965    -0.05      0.0\n",
       "to RE  0.010000     0.05     -0.0"
      ]
     },
     "execution_count": 13,
     "metadata": {},
     "output_type": "execute_result"
    }
   ],
   "source": [
    "# test it out...\n",
    "rates_function(rates, rates_evol, t=C.age(0.3).value, t0=C.age(1.0).value)"
   ]
  },
  {
   "cell_type": "code",
   "execution_count": 14,
   "metadata": {
    "collapsed": true
   },
   "outputs": [],
   "source": [
    "def model(N, t, ratefn, rates, rates_evol, t0):\n",
    "    rates = ratefn(rates, rates_evol, t, t0)\n",
    "    return np.dot(rates, N)"
   ]
  },
  {
   "cell_type": "code",
   "execution_count": 15,
   "metadata": {},
   "outputs": [
    {
     "data": {
      "text/plain": [
       "$N_{BD}$    0.645161\n",
       "$N_{RD}$    0.032258\n",
       "$N_{RE}$    0.322581\n",
       "dtype: float64"
      ]
     },
     "execution_count": 15,
     "metadata": {},
     "output_type": "execute_result"
    }
   ],
   "source": [
    "# initial relative number densities\n",
    "# for log(M*/Msun) ~ 10.5, starting with f_{R|D} ~ 0.05 and f_{D|R} ~ 0.1 at z ~ 1\n",
    "N0 = pd.Series(index='$N_{' + states + '}$', data=[0.6, 0.03, 0.3])\n",
    "N0 /= N0.sum()  # normalise to unity\n",
    "N0"
   ]
  },
  {
   "cell_type": "code",
   "execution_count": 16,
   "metadata": {
    "collapsed": true
   },
   "outputs": [],
   "source": [
    "# redshifts and times to evaluate\n",
    "zstart = 1.0\n",
    "zend = 0.3\n",
    "z = np.linspace(zstart, zend, 100)\n",
    "t = C.age(z)\n",
    "t0 = C.age(zend).value"
   ]
  },
  {
   "cell_type": "code",
   "execution_count": 17,
   "metadata": {
    "collapsed": true
   },
   "outputs": [],
   "source": [
    "N = odeint(model, N0, t, args=(rates_function, rates, rates_evol, t0))"
   ]
  },
  {
   "cell_type": "code",
   "execution_count": 18,
   "metadata": {},
   "outputs": [],
   "source": [
    "N = pd.DataFrame(index=z, columns='$N_{' + states + '}$', data=N)\n",
    "N = N[::-1]"
   ]
  },
  {
   "cell_type": "code",
   "execution_count": 19,
   "metadata": {
    "collapsed": true
   },
   "outputs": [],
   "source": [
    "F = pd.DataFrame(index=N.index)\n",
    "F['$f_{R|D}$'] = N['$N_{RD}$'] / (N['$N_{RD}$'] + N['$N_{BD}$'])\n",
    "F['$f_{D|R}$'] = N['$N_{RD}$'] / (N['$N_{RD}$'] + N['$N_{RE}$'])"
   ]
  },
  {
   "cell_type": "code",
   "execution_count": 20,
   "metadata": {
    "collapsed": true
   },
   "outputs": [],
   "source": [
    "def plot_NF(N, F):\n",
    "    fig, (axN, axF) = plt.subplots(1, 2, figsize=(12, 6))\n",
    "    N.plot(ax=axN)\n",
    "    axN.set(xlabel='$z$', ylabel='$N(z)/N(z={:.1f})$'.format(zstart), ylim=(0, 1));\n",
    "    F.plot(ax=axF)\n",
    "    axF.set(xlabel='$z$', ylabel='$f(z)$', ylim=(0, 0.4));\n",
    "    plt.tight_layout()"
   ]
  },
  {
   "cell_type": "code",
   "execution_count": 21,
   "metadata": {},
   "outputs": [
    {
     "data": {
      "image/png": "[encoded data removed]",
      "text/plain": [
       "<matplotlib.figure.Figure at 0x7f775d190dd8>"
      ]
     },
     "metadata": {},
     "output_type": "display_data"
    }
   ],
   "source": [
    "plot_NF(N, F)"
   ]
  },
  {
   "cell_type": "code",
   "execution_count": 22,
   "metadata": {},
   "outputs": [
    {
     "data": {
      "image/png": "[encoded data removed]",
      "text/plain": [
       "<IPython.core.display.Image object>"
      ]
     },
     "execution_count": 22,
     "metadata": {},
     "output_type": "execute_result"
    }
   ],
   "source": [
    "Image('red_disk_fraction.png')"
   ]
  },
  {
   "cell_type": "code",
   "execution_count": 23,
   "metadata": {},
   "outputs": [],
   "source": [
    "# simulated data for now\n",
    "zdata = np.linspace(1.0, 0.3, 4)\n",
    "tdata = C.age(zdata)\n",
    "t0 = C.age(1.0).value\n",
    "# using N0, rates and rates_evol defined above\n",
    "Ndata = odeint(model, N0, tdata, args=(rates_function, rates, rates_evol, t0))\n",
    "Ndata = pd.DataFrame(index=zdata, columns='$N_{' + states + '}$', data=Ndata)\n",
    "# simple errors\n",
    "Nerr = Ndata * 0 + 0.01"
   ]
  },
  {
   "cell_type": "code",
   "execution_count": 24,
   "metadata": {},
   "outputs": [
    {
     "data": {
      "text/html": [
       "<div>\n",
       "<style>\n",
       "    .dataframe thead tr:only-child th {\n",
       "        text-align: right;\n",
       "    }\n",
       "\n",
       "    .dataframe thead th {\n",
       "        text-align: left;\n",
       "    }\n",
       "\n",
       "    .dataframe tbody tr th {\n",
       "        vertical-align: top;\n",
       "    }\n",
       "</style>\n",
       "<table border=\"1\" class=\"dataframe\">\n",
       "  <thead>\n",
       "    <tr style=\"text-align: right;\">\n",
       "      <th></th>\n",
       "      <th>$N_{BD}$</th>\n",
       "      <th>$N_{RD}$</th>\n",
       "      <th>$N_{RE}$</th>\n",
       "    </tr>\n",
       "  </thead>\n",
       "  <tbody>\n",
       "    <tr>\n",
       "      <th>1.000000</th>\n",
       "      <td>0.645161</td>\n",
       "      <td>0.032258</td>\n",
       "      <td>0.322581</td>\n",
       "    </tr>\n",
       "    <tr>\n",
       "      <th>0.766667</th>\n",
       "      <td>0.602181</td>\n",
       "      <td>0.066064</td>\n",
       "      <td>0.331755</td>\n",
       "    </tr>\n",
       "    <tr>\n",
       "      <th>0.533333</th>\n",
       "      <td>0.540861</td>\n",
       "      <td>0.113256</td>\n",
       "      <td>0.345883</td>\n",
       "    </tr>\n",
       "    <tr>\n",
       "      <th>0.300000</th>\n",
       "      <td>0.454597</td>\n",
       "      <td>0.176822</td>\n",
       "      <td>0.368582</td>\n",
       "    </tr>\n",
       "  </tbody>\n",
       "</table>\n",
       "</div>"
      ],
      "text/plain": [
       "          $N_{BD}$  $N_{RD}$  $N_{RE}$\n",
       "1.000000  0.645161  0.032258  0.322581\n",
       "0.766667  0.602181  0.066064  0.331755\n",
       "0.533333  0.540861  0.113256  0.345883\n",
       "0.300000  0.454597  0.176822  0.368582"
      ]
     },
     "execution_count": 24,
     "metadata": {},
     "output_type": "execute_result"
    }
   ],
   "source": [
    "Ndata"
   ]
  },
  {
   "cell_type": "code",
   "execution_count": 25,
   "metadata": {},
   "outputs": [
    {
     "data": {
      "text/html": [
       "<div>\n",
       "<style>\n",
       "    .dataframe thead tr:only-child th {\n",
       "        text-align: right;\n",
       "    }\n",
       "\n",
       "    .dataframe thead th {\n",
       "        text-align: left;\n",
       "    }\n",
       "\n",
       "    .dataframe tbody tr th {\n",
       "        vertical-align: top;\n",
       "    }\n",
       "</style>\n",
       "<table border=\"1\" class=\"dataframe\">\n",
       "  <thead>\n",
       "    <tr style=\"text-align: right;\">\n",
       "      <th></th>\n",
       "      <th>$N_{BD}$</th>\n",
       "      <th>$N_{RD}$</th>\n",
       "      <th>$N_{RE}$</th>\n",
       "    </tr>\n",
       "  </thead>\n",
       "  <tbody>\n",
       "    <tr>\n",
       "      <th>1.000000</th>\n",
       "      <td>0.01</td>\n",
       "      <td>0.01</td>\n",
       "      <td>0.01</td>\n",
       "    </tr>\n",
       "    <tr>\n",
       "      <th>0.766667</th>\n",
       "      <td>0.01</td>\n",
       "      <td>0.01</td>\n",
       "      <td>0.01</td>\n",
       "    </tr>\n",
       "    <tr>\n",
       "      <th>0.533333</th>\n",
       "      <td>0.01</td>\n",
       "      <td>0.01</td>\n",
       "      <td>0.01</td>\n",
       "    </tr>\n",
       "    <tr>\n",
       "      <th>0.300000</th>\n",
       "      <td>0.01</td>\n",
       "      <td>0.01</td>\n",
       "      <td>0.01</td>\n",
       "    </tr>\n",
       "  </tbody>\n",
       "</table>\n",
       "</div>"
      ],
      "text/plain": [
       "          $N_{BD}$  $N_{RD}$  $N_{RE}$\n",
       "1.000000      0.01      0.01      0.01\n",
       "0.766667      0.01      0.01      0.01\n",
       "0.533333      0.01      0.01      0.01\n",
       "0.300000      0.01      0.01      0.01"
      ]
     },
     "execution_count": 25,
     "metadata": {},
     "output_type": "execute_result"
    }
   ],
   "source": [
    "Nerr"
   ]
  },
  {
   "cell_type": "code",
   "execution_count": 26,
   "metadata": {
    "collapsed": true
   },
   "outputs": [],
   "source": [
    "class logProbabilities:\n",
    "    def __init__(self, fit_N0, fit_rates, fit_rates_evol,\n",
    "                 Ndata, Nerr, tdata, ratefn, N0_init, rates_init, rates_evol_init,\n",
    "                 t0, N_labels, rate_labels, rate_evol_labels):\n",
    "        # a boolean matrix describing which rates and evolutions to fit\n",
    "        self.fit_N0 = fit_N0.copy()\n",
    "        self.fit_rates = fit_rates.copy()\n",
    "        self.fit_rates_evol = fit_rates_evol.copy()\n",
    "        self.nStates = len(fit_rates)\n",
    "        self.nFitN0 = self.fit_N0.values.sum()\n",
    "        self.nFitRates = self.fit_rates.values.sum()\n",
    "        self.nFitRatesEvol = self.fit_rates_evol.values.sum()\n",
    "        self.pars = []\n",
    "        self.pars.extend(N_labels.values[self.fit_N0.values])\n",
    "        self.pars.extend(rate_labels.values[self.fit_rates.values])\n",
    "        self.pars.extend(rate_evol_labels.values[self.fit_rates_evol.values])\n",
    "        self.pars = pd.DataFrame(self.pars, columns=['parameter'])\n",
    "        self.nPar = self.nFitN0 + self.nFitRates + self.nFitRatesEvol\n",
    "        # the measured number density, Ndata,\n",
    "        # in each state at time, tdata,\n",
    "        # with its error, Nerr\n",
    "        self.Ndata = Ndata.copy()\n",
    "        self.Nerr = Nerr.copy()        \n",
    "        self.tdata = tdata.copy()\n",
    "        # the current rate matrix is determined using ratefn\n",
    "        # from N0, the number densities at t0; rates, the rates at t0; and rates_evol\n",
    "        self.ratefn = ratefn\n",
    "        self.N0 = N0_init.copy()\n",
    "        self.rates = rates_init.copy()\n",
    "        self.rates_evol = rates_evol_init.copy()\n",
    "        self.t0 = t0\n",
    "\n",
    "    def split_pars(self, p):\n",
    "        start, end = (0, self.nFitN0)\n",
    "        p_N0 = p[start:end]\n",
    "        start, end = (end, end + self.nFitRates)\n",
    "        p_rates = p[start:end]\n",
    "        start, end = (end, end + self.nFitRatesEvol)\n",
    "        p_rates_evol = p[start:end]\n",
    "        return p_N0, p_rates, p_rates_evol\n",
    "        \n",
    "    def evaluate(self, t, p):\n",
    "        # update the model quantities given the current parameters\n",
    "        p_N0, p_rates, p_rates_evol = self.split_pars(p)\n",
    "        self.N0.values[self.fit_N0.values] = p_N0\n",
    "        self.rates.values[self.fit_rates.values] = p_rates\n",
    "        self.rates_evol.values[self.fit_rates_evol.values] = p_rates_evol\n",
    "        # compute N at each tdata, given current parameters\n",
    "        N = odeint(model, self.N0, t,\n",
    "                   args=(self.ratefn, self.rates, self.rates_evol, self.t0))\n",
    "        return N\n",
    "    \n",
    "    def prior(self, inpars):\n",
    "        inshape = inpars.shape\n",
    "        inpars = inpars.reshape((-1, self.nPar))\n",
    "        lnP = np.zeros(inpars.shape[0])\n",
    "        for i, p in enumerate(inpars):\n",
    "            p_N0, p_rates, p_rates_evol = self.split_pars(p)\n",
    "            lnP[i] = stats.uniform(0, 1).logpdf(p_N0).sum()\n",
    "            lnP[i] += stats.uniform(0, 1).logpdf(p_rates).sum()\n",
    "            lnP[i] += norm_logpdf(p_rates_evol, 0, 0.1).sum()\n",
    "        return lnP.reshape(inshape[:-1])\n",
    "    \n",
    "    def likelihood(self, inpars):\n",
    "        inshape = inpars.shape\n",
    "        inpars = inpars.reshape((-1, self.nPar))\n",
    "        lnL = np.zeros(inpars.shape[0])\n",
    "        for i, p in enumerate(inpars):\n",
    "            N = self.evaluate(self.tdata, p)\n",
    "            # calculate Likelihood of computed N given Ndata and Nerr\n",
    "            lnL[i] = norm_logpdf(N, self.Ndata.values, self.Nerr.values).sum()\n",
    "        return lnL.reshape(inshape[:-1])\n",
    "    \n",
    "    def posterior(self, inpars):\n",
    "        lnL = self.likelihood(inpars)\n",
    "        lnP = self.prior(inpars)\n",
    "        return lnL + lnP\n",
    "    \n",
    "    def neg_posterior(self, inpars):\n",
    "        return -self.posterior(inpars)\n",
    "    \n",
    "    def init_pars(self, shape):\n",
    "        ip = np.zeros(shape + (self.nPar,))\n",
    "        start, end = (0, self.nFitN0)\n",
    "        ip[..., start:end] = stats.uniform.rvs(0, 1, size=shape + (self.nFitN0,))\n",
    "        start, end = (end, end + self.nFitRates)\n",
    "        ip[..., start:end] = stats.uniform.rvs(0, 1, size=shape + (self.nFitRates,))\n",
    "        start, end = (end, end + self.nFitRatesEvol)\n",
    "        ip[..., start:end] = stats.norm.rvs(0, 0.1, size=shape + (self.nFitRatesEvol,))\n",
    "        return ip"
   ]
  },
  {
   "cell_type": "code",
   "execution_count": 27,
   "metadata": {},
   "outputs": [],
   "source": [
    "fit_N0 = pd.Series(index='$N_{' + states + '}$', data=np.zeros(nStates, np.bool))\n",
    "fit_rates = pd.DataFrame(index='to ' + states, columns='from ' + states,\n",
    "                         data=np.zeros((nStates, nStates), np.bool))\n",
    "fit_rates_evol = pd.DataFrame(index='to ' + states, columns='from ' + states,\n",
    "                         data=np.zeros((nStates, nStates), np.bool))\n",
    "\n",
    "# Select which parameters to fit.\n",
    "fit_N0[:] = True\n",
    "fit_rates['from BD']['to RD'] = True\n",
    "fit_rates['from RD']['to RE'] = True\n",
    "fit_rates['from BD']['to RE'] = True\n",
    "fit_rates_evol['from BD']['to RD'] = True"
   ]
  },
  {
   "cell_type": "code",
   "execution_count": 28,
   "metadata": {},
   "outputs": [
    {
     "data": {
      "text/plain": [
       "$N_{BD}$    True\n",
       "$N_{RD}$    True\n",
       "$N_{RE}$    True\n",
       "dtype: bool"
      ]
     },
     "execution_count": 28,
     "metadata": {},
     "output_type": "execute_result"
    }
   ],
   "source": [
    "fit_N0"
   ]
  },
  {
   "cell_type": "code",
   "execution_count": 29,
   "metadata": {},
   "outputs": [
    {
     "data": {
      "text/html": [
       "<div>\n",
       "<style>\n",
       "    .dataframe thead tr:only-child th {\n",
       "        text-align: right;\n",
       "    }\n",
       "\n",
       "    .dataframe thead th {\n",
       "        text-align: left;\n",
       "    }\n",
       "\n",
       "    .dataframe tbody tr th {\n",
       "        vertical-align: top;\n",
       "    }\n",
       "</style>\n",
       "<table border=\"1\" class=\"dataframe\">\n",
       "  <thead>\n",
       "    <tr style=\"text-align: right;\">\n",
       "      <th></th>\n",
       "      <th>from BD</th>\n",
       "      <th>from RD</th>\n",
       "      <th>from RE</th>\n",
       "    </tr>\n",
       "  </thead>\n",
       "  <tbody>\n",
       "    <tr>\n",
       "      <th>to BD</th>\n",
       "      <td>False</td>\n",
       "      <td>False</td>\n",
       "      <td>False</td>\n",
       "    </tr>\n",
       "    <tr>\n",
       "      <th>to RD</th>\n",
       "      <td>True</td>\n",
       "      <td>False</td>\n",
       "      <td>False</td>\n",
       "    </tr>\n",
       "    <tr>\n",
       "      <th>to RE</th>\n",
       "      <td>True</td>\n",
       "      <td>True</td>\n",
       "      <td>False</td>\n",
       "    </tr>\n",
       "  </tbody>\n",
       "</table>\n",
       "</div>"
      ],
      "text/plain": [
       "       from BD  from RD  from RE\n",
       "to BD    False    False    False\n",
       "to RD     True    False    False\n",
       "to RE     True     True    False"
      ]
     },
     "execution_count": 29,
     "metadata": {},
     "output_type": "execute_result"
    }
   ],
   "source": [
    "fit_rates"
   ]
  },
  {
   "cell_type": "code",
   "execution_count": 30,
   "metadata": {},
   "outputs": [
    {
     "data": {
      "text/html": [
       "<div>\n",
       "<style>\n",
       "    .dataframe thead tr:only-child th {\n",
       "        text-align: right;\n",
       "    }\n",
       "\n",
       "    .dataframe thead th {\n",
       "        text-align: left;\n",
       "    }\n",
       "\n",
       "    .dataframe tbody tr th {\n",
       "        vertical-align: top;\n",
       "    }\n",
       "</style>\n",
       "<table border=\"1\" class=\"dataframe\">\n",
       "  <thead>\n",
       "    <tr style=\"text-align: right;\">\n",
       "      <th></th>\n",
       "      <th>from BD</th>\n",
       "      <th>from RD</th>\n",
       "      <th>from RE</th>\n",
       "    </tr>\n",
       "  </thead>\n",
       "  <tbody>\n",
       "    <tr>\n",
       "      <th>to BD</th>\n",
       "      <td>False</td>\n",
       "      <td>False</td>\n",
       "      <td>False</td>\n",
       "    </tr>\n",
       "    <tr>\n",
       "      <th>to RD</th>\n",
       "      <td>True</td>\n",
       "      <td>False</td>\n",
       "      <td>False</td>\n",
       "    </tr>\n",
       "    <tr>\n",
       "      <th>to RE</th>\n",
       "      <td>False</td>\n",
       "      <td>False</td>\n",
       "      <td>False</td>\n",
       "    </tr>\n",
       "  </tbody>\n",
       "</table>\n",
       "</div>"
      ],
      "text/plain": [
       "       from BD  from RD  from RE\n",
       "to BD    False    False    False\n",
       "to RD     True    False    False\n",
       "to RE    False    False    False"
      ]
     },
     "execution_count": 30,
     "metadata": {},
     "output_type": "execute_result"
    }
   ],
   "source": [
    "fit_rates_evol"
   ]
  },
  {
   "cell_type": "code",
   "execution_count": 31,
   "metadata": {},
   "outputs": [],
   "source": [
    "# Define initial values.\n",
    "# Those to be fit will vary.\n",
    "# The rest will be held fixed at their initial values.\n",
    "N0_init = pd.Series(Ndata.iloc[0], name=False)\n",
    "rates_init = pd.DataFrame(index='to ' + states, columns='from ' + states,\n",
    "                          data=np.zeros((nStates, nStates)))\n",
    "rates_evol_init = pd.DataFrame(index='to ' + states, columns='from ' + states,\n",
    "                               data=np.zeros((nStates, nStates)))"
   ]
  },
  {
   "cell_type": "code",
   "execution_count": 32,
   "metadata": {},
   "outputs": [
    {
     "data": {
      "text/plain": [
       "$N_{BD}$    0.645161\n",
       "$N_{RD}$    0.032258\n",
       "$N_{RE}$    0.322581\n",
       "dtype: float64"
      ]
     },
     "execution_count": 32,
     "metadata": {},
     "output_type": "execute_result"
    }
   ],
   "source": [
    "N0_init"
   ]
  },
  {
   "cell_type": "code",
   "execution_count": 33,
   "metadata": {},
   "outputs": [
    {
     "data": {
      "text/html": [
       "<div>\n",
       "<style>\n",
       "    .dataframe thead tr:only-child th {\n",
       "        text-align: right;\n",
       "    }\n",
       "\n",
       "    .dataframe thead th {\n",
       "        text-align: left;\n",
       "    }\n",
       "\n",
       "    .dataframe tbody tr th {\n",
       "        vertical-align: top;\n",
       "    }\n",
       "</style>\n",
       "<table border=\"1\" class=\"dataframe\">\n",
       "  <thead>\n",
       "    <tr style=\"text-align: right;\">\n",
       "      <th></th>\n",
       "      <th>from BD</th>\n",
       "      <th>from RD</th>\n",
       "      <th>from RE</th>\n",
       "    </tr>\n",
       "  </thead>\n",
       "  <tbody>\n",
       "    <tr>\n",
       "      <th>to BD</th>\n",
       "      <td>0.0</td>\n",
       "      <td>0.0</td>\n",
       "      <td>0.0</td>\n",
       "    </tr>\n",
       "    <tr>\n",
       "      <th>to RD</th>\n",
       "      <td>0.0</td>\n",
       "      <td>0.0</td>\n",
       "      <td>0.0</td>\n",
       "    </tr>\n",
       "    <tr>\n",
       "      <th>to RE</th>\n",
       "      <td>0.0</td>\n",
       "      <td>0.0</td>\n",
       "      <td>0.0</td>\n",
       "    </tr>\n",
       "  </tbody>\n",
       "</table>\n",
       "</div>"
      ],
      "text/plain": [
       "       from BD  from RD  from RE\n",
       "to BD      0.0      0.0      0.0\n",
       "to RD      0.0      0.0      0.0\n",
       "to RE      0.0      0.0      0.0"
      ]
     },
     "execution_count": 33,
     "metadata": {},
     "output_type": "execute_result"
    }
   ],
   "source": [
    "rates_init"
   ]
  },
  {
   "cell_type": "code",
   "execution_count": 34,
   "metadata": {},
   "outputs": [
    {
     "data": {
      "text/html": [
       "<div>\n",
       "<style>\n",
       "    .dataframe thead tr:only-child th {\n",
       "        text-align: right;\n",
       "    }\n",
       "\n",
       "    .dataframe thead th {\n",
       "        text-align: left;\n",
       "    }\n",
       "\n",
       "    .dataframe tbody tr th {\n",
       "        vertical-align: top;\n",
       "    }\n",
       "</style>\n",
       "<table border=\"1\" class=\"dataframe\">\n",
       "  <thead>\n",
       "    <tr style=\"text-align: right;\">\n",
       "      <th></th>\n",
       "      <th>from BD</th>\n",
       "      <th>from RD</th>\n",
       "      <th>from RE</th>\n",
       "    </tr>\n",
       "  </thead>\n",
       "  <tbody>\n",
       "    <tr>\n",
       "      <th>to BD</th>\n",
       "      <td>0.0</td>\n",
       "      <td>0.0</td>\n",
       "      <td>0.0</td>\n",
       "    </tr>\n",
       "    <tr>\n",
       "      <th>to RD</th>\n",
       "      <td>0.0</td>\n",
       "      <td>0.0</td>\n",
       "      <td>0.0</td>\n",
       "    </tr>\n",
       "    <tr>\n",
       "      <th>to RE</th>\n",
       "      <td>0.0</td>\n",
       "      <td>0.0</td>\n",
       "      <td>0.0</td>\n",
       "    </tr>\n",
       "  </tbody>\n",
       "</table>\n",
       "</div>"
      ],
      "text/plain": [
       "       from BD  from RD  from RE\n",
       "to BD      0.0      0.0      0.0\n",
       "to RD      0.0      0.0      0.0\n",
       "to RE      0.0      0.0      0.0"
      ]
     },
     "execution_count": 34,
     "metadata": {},
     "output_type": "execute_result"
    }
   ],
   "source": [
    "rates_evol_init"
   ]
  },
  {
   "cell_type": "code",
   "execution_count": 35,
   "metadata": {},
   "outputs": [],
   "source": [
    "logProb = logProbabilities(fit_N0, fit_rates, fit_rates_evol, Ndata, Nerr, tdata,\n",
    "                           rates_function, N0_init, rates_init, rates_evol_init,\n",
    "                           t0, N_labels, rate_labels, rate_evol_labels)"
   ]
  },
  {
   "cell_type": "code",
   "execution_count": 36,
   "metadata": {},
   "outputs": [
    {
     "data": {
      "text/html": [
       "<div>\n",
       "<style>\n",
       "    .dataframe thead tr:only-child th {\n",
       "        text-align: right;\n",
       "    }\n",
       "\n",
       "    .dataframe thead th {\n",
       "        text-align: left;\n",
       "    }\n",
       "\n",
       "    .dataframe tbody tr th {\n",
       "        vertical-align: top;\n",
       "    }\n",
       "</style>\n",
       "<table border=\"1\" class=\"dataframe\">\n",
       "  <thead>\n",
       "    <tr style=\"text-align: right;\">\n",
       "      <th></th>\n",
       "      <th>parameter</th>\n",
       "    </tr>\n",
       "  </thead>\n",
       "  <tbody>\n",
       "    <tr>\n",
       "      <th>0</th>\n",
       "      <td>$N_{BD}$</td>\n",
       "    </tr>\n",
       "    <tr>\n",
       "      <th>1</th>\n",
       "      <td>$N_{RD}$</td>\n",
       "    </tr>\n",
       "    <tr>\n",
       "      <th>2</th>\n",
       "      <td>$N_{RE}$</td>\n",
       "    </tr>\n",
       "    <tr>\n",
       "      <th>3</th>\n",
       "      <td>$r_{BD \\rightarrow RD}$</td>\n",
       "    </tr>\n",
       "    <tr>\n",
       "      <th>4</th>\n",
       "      <td>$r_{BD \\rightarrow RE}$</td>\n",
       "    </tr>\n",
       "    <tr>\n",
       "      <th>5</th>\n",
       "      <td>$r_{RD \\rightarrow RE}$</td>\n",
       "    </tr>\n",
       "    <tr>\n",
       "      <th>6</th>\n",
       "      <td>$\\dot{r}_{BD \\rightarrow RD}$</td>\n",
       "    </tr>\n",
       "  </tbody>\n",
       "</table>\n",
       "</div>"
      ],
      "text/plain": [
       "                       parameter\n",
       "0                       $N_{BD}$\n",
       "1                       $N_{RD}$\n",
       "2                       $N_{RE}$\n",
       "3        $r_{BD \\rightarrow RD}$\n",
       "4        $r_{BD \\rightarrow RE}$\n",
       "5        $r_{RD \\rightarrow RE}$\n",
       "6  $\\dot{r}_{BD \\rightarrow RD}$"
      ]
     },
     "execution_count": 36,
     "metadata": {},
     "output_type": "execute_result"
    }
   ],
   "source": [
    "logProb.pars"
   ]
  },
  {
   "cell_type": "code",
   "execution_count": 37,
   "metadata": {},
   "outputs": [
    {
     "data": {
      "text/plain": [
       "array([[ 0.37022594,  0.51087463,  0.82198597,  0.36296126,  0.40396638,\n",
       "         0.31273002,  0.0143956 ],\n",
       "       [ 0.21852437,  0.89255184,  0.09445563,  0.96446849,  0.52870326,\n",
       "         0.96395267,  0.22503669],\n",
       "       [ 0.88640003,  0.83911497,  0.15374174,  0.99034836,  0.46736679,\n",
       "         0.32790472,  0.11730218],\n",
       "       [ 0.63052261,  0.83700454,  0.9045421 ,  0.14444401,  0.15408715,\n",
       "         0.41950059,  0.14919657],\n",
       "       [ 0.30762884,  0.64708131,  0.17361839,  0.36772925,  0.7504121 ,\n",
       "         0.96705447, -0.08022729]])"
      ]
     },
     "execution_count": 37,
     "metadata": {},
     "output_type": "execute_result"
    }
   ],
   "source": [
    "logProb.init_pars((5,))"
   ]
  },
  {
   "cell_type": "code",
   "execution_count": 38,
   "metadata": {
    "collapsed": true
   },
   "outputs": [],
   "source": [
    "truth = [0.645161, 0.032258, 0.322581, 0.05, 0.01, 0.05, 0.01]"
   ]
  },
  {
   "cell_type": "code",
   "execution_count": 39,
   "metadata": {},
   "outputs": [
    {
     "data": {
      "text/plain": [
       "array([-17041.89962037,  -5192.72050971, -18372.19703126, -12803.23386759,\n",
       "       -32624.93535179,     45.61342639])"
      ]
     },
     "execution_count": 39,
     "metadata": {},
     "output_type": "execute_result"
    }
   ],
   "source": [
    "logProb.posterior(np.vstack((logProb.init_pars((5,)), truth)))"
   ]
  },
  {
   "cell_type": "code",
   "execution_count": null,
   "metadata": {},
   "outputs": [
    {
     "data": {
      "text/plain": [
       "45.613426389393346"
      ]
     },
     "execution_count": 40,
     "metadata": {},
     "output_type": "execute_result"
    }
   ],
   "source": [
    "logProb.posterior(np.array(truth))"
   ]
  },
  {
   "cell_type": "code",
   "execution_count": null,
   "metadata": {},
   "outputs": [
    {
     "name": "stderr",
     "output_type": "stream",
     "text": [
      "/home/ppzsb1/software/anaconda/envs/py3.6/lib/python3.6/site-packages/scipy/optimize/optimize.py:628: RuntimeWarning: invalid value encountered in double_scalars\n",
      "  grad[k] = (f(*((xk + d,) + args)) - f0) / d[k]\n",
      "/home/ppzsb1/software/anaconda/envs/py3.6/lib/python3.6/site-packages/scipy/optimize/optimize.py:628: RuntimeWarning: invalid value encountered in double_scalars\n",
      "  grad[k] = (f(*((xk + d,) + args)) - f0) / d[k]\n"
     ]
    }
   ],
   "source": [
    "result = scipy.optimize.minimize(logProb.neg_posterior, [0.6, 0.03, 0.3, 0.06, 0.02, 0.06, 0.00], tol=1e-2)\n",
    "result"
   ]
  },
  {
   "cell_type": "code",
   "execution_count": null,
   "metadata": {
    "scrolled": true
   },
   "outputs": [],
   "source": [
    "sampler = run_emcee(logProb.likelihood, logProb.prior, logProb.init_pars,\n",
    "                    ntemps=3, nwalkers=50, nsamples=1500,\n",
    "                    minlogbeta=None, nupdates=100, threads=4,\n",
    "                    outfilename='mel_sampler_sim', saveall=True)"
   ]
  },
  {
   "cell_type": "code",
   "execution_count": null,
   "metadata": {},
   "outputs": [],
   "source": [
    "statistics = plots.print_emcee(sampler, logProb.pars['parameter'], nburn=750,\n",
    "                          model=logProb.evaluate, x=tdata, y=Ndata, yerror=Nerr,\n",
    "                          truths=truth, outfilename='mel_sim')"
   ]
  },
  {
   "cell_type": "code",
   "execution_count": null,
   "metadata": {
    "collapsed": true
   },
   "outputs": [],
   "source": [
    "fit_rates_evol['from RD']['to RE'] = True\n",
    "fit_rates_evol['from BD']['to RE'] = True"
   ]
  },
  {
   "cell_type": "code",
   "execution_count": null,
   "metadata": {
    "collapsed": true
   },
   "outputs": [],
   "source": [
    "logProb = LogProbabilities(fit_N0, fit_rates, fit_rates_evol, Ndata, Nerr, tdata,\n",
    "                           rates_function, N0_init, rates_init, rates_evol_init,\n",
    "                           t0, N_labels, rate_labels, rate_evol_labels)\n",
    "\n",
    "init_pars = InitPars([[0, 1]] * logProb.nPar)"
   ]
  },
  {
   "cell_type": "code",
   "execution_count": null,
   "metadata": {},
   "outputs": [],
   "source": [
    "result_evol = scipy.optimize.minimize(logProb.neg_posterior, [0.6, 0.03, 0.3, 0.06, 0.02, 0.06, 0.0, 0.0, 0.0], tol=1e-2)\n",
    "result_evol"
   ]
  },
  {
   "cell_type": "code",
   "execution_count": null,
   "metadata": {},
   "outputs": [],
   "source": [
    "sampler = run_emcee(logProb.likelihood, logProb.prior, logProb.init_pars,\n",
    "                    ntemps=3, nwalkers=50, nsamples=1500,\n",
    "                    minlogbeta=None, nupdates=100, threads=4,\n",
    "                    outfilename='mel_sim_evol', saveall=True)"
   ]
  },
  {
   "cell_type": "code",
   "execution_count": null,
   "metadata": {},
   "outputs": [],
   "source": [
    "statistics = plots.print_emcee(sampler, logProb.pars['parameter'], nburn=750,\n",
    "                          model=logProb.evaluate, x=tdata, y=Ndata, yerror=Nerr,\n",
    "                          truths=truth+[0,0], outfilename='mel_sim_evol')"
   ]
  }
 ],
 "metadata": {
  "_draft": {
   "nbviewer_url": "https://gist.github.com/116aeac91441c79c1988fc22fb6872f9"
  },
  "gist": {
   "data": {
    "description": "Toy galaxy transformation model ",
    "public": false
   },
   "id": "116aeac91441c79c1988fc22fb6872f9"
  },
  "hide_input": false,
  "kernelspec": {
   "display_name": "Python [conda env:py3.6]",
   "language": "python",
   "name": "conda-env-py3.6-py"
  },
  "language_info": {
   "codemirror_mode": {
    "name": "ipython",
    "version": 3
   },
   "file_extension": ".py",
   "mimetype": "text/x-python",
   "name": "python",
   "nbconvert_exporter": "python",
   "pygments_lexer": "ipython3",
   "version": "3.6.2"
  }
 },
 "nbformat": 4,
 "nbformat_minor": 1
}
