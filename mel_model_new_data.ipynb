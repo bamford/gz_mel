{
 "cells": [
  {
   "cell_type": "markdown",
   "metadata": {},
   "source": [
    "This notebook builds on mel_model_new_sim to use real data.  Still just for one mass bin.  Could rework this to fit each mass bin in turn.  However, also achievable with more complex code in mel\\_model\\_bins\\_\\*, if turn off fitting of inter-bin rates."
   ]
  },
  {
   "cell_type": "code",
   "execution_count": 1,
   "metadata": {
    "collapsed": true
   },
   "outputs": [],
   "source": [
    "from matplotlib import pyplot as plt\n",
    "import pandas as pd\n",
    "import numpy as np\n",
    "from scipy import stats\n",
    "from scipy.integrate import odeint\n",
    "from astropy import cosmology\n",
    "from IPython.display import Image\n",
    "import pickle"
   ]
  },
  {
   "cell_type": "code",
   "execution_count": 2,
   "metadata": {
    "collapsed": true
   },
   "outputs": [],
   "source": [
    "# Steven's emcee stuff\n",
    "from convenience import run_emcee\n",
    "from pdfs import norm_logpdf, beta_logpdf\n",
    "import plots"
   ]
  },
  {
   "cell_type": "code",
   "execution_count": 3,
   "metadata": {
    "collapsed": true
   },
   "outputs": [],
   "source": [
    "%matplotlib inline\n",
    "# better-looking plots\n",
    "plt.rcParams['font.family'] = 'serif'\n",
    "plt.rcParams['figure.figsize'] = (10.0, 8.0)\n",
    "plt.rcParams['font.size'] = 12"
   ]
  },
  {
   "cell_type": "code",
   "execution_count": 4,
   "metadata": {
    "collapsed": true
   },
   "outputs": [],
   "source": [
    "C = cosmology.FlatLambdaCDM(70.0, 0.3)"
   ]
  },
  {
   "cell_type": "code",
   "execution_count": 5,
   "metadata": {
    "collapsed": true
   },
   "outputs": [],
   "source": [
    "states = pd.Index(('BD', 'RD', 'RE'))\n",
    "nStates = len(states)"
   ]
  },
  {
   "cell_type": "code",
   "execution_count": 6,
   "metadata": {
    "collapsed": true
   },
   "outputs": [],
   "source": [
    "rate_labels = [['$r_{' + '{} \\\\rightarrow {}'.format(s2, s1) + '}$' for s2 in states] for s1 in states]\n",
    "rate_labels = pd.DataFrame(index='to ' + states, columns='from ' + states, data=rate_labels)\n",
    "rate_evol_labels = rate_labels.replace('\\$r', '$\\dot{r}', regex=True)\n",
    "N_labels = '$N_{' + states + '}$'"
   ]
  },
  {
   "cell_type": "code",
   "execution_count": 7,
   "metadata": {},
   "outputs": [
    {
     "data": {
      "text/plain": [
       "Index(['$N_{BD}$', '$N_{RD}$', '$N_{RE}$'], dtype='object')"
      ]
     },
     "execution_count": 7,
     "metadata": {},
     "output_type": "execute_result"
    }
   ],
   "source": [
    "N_labels"
   ]
  },
  {
   "cell_type": "code",
   "execution_count": 8,
   "metadata": {},
   "outputs": [
    {
     "data": {
      "text/html": [
       "<div>\n",
       "<style>\n",
       "    .dataframe thead tr:only-child th {\n",
       "        text-align: right;\n",
       "    }\n",
       "\n",
       "    .dataframe thead th {\n",
       "        text-align: left;\n",
       "    }\n",
       "\n",
       "    .dataframe tbody tr th {\n",
       "        vertical-align: top;\n",
       "    }\n",
       "</style>\n",
       "<table border=\"1\" class=\"dataframe\">\n",
       "  <thead>\n",
       "    <tr style=\"text-align: right;\">\n",
       "      <th></th>\n",
       "      <th>from BD</th>\n",
       "      <th>from RD</th>\n",
       "      <th>from RE</th>\n",
       "    </tr>\n",
       "  </thead>\n",
       "  <tbody>\n",
       "    <tr>\n",
       "      <th>to BD</th>\n",
       "      <td>$r_{BD \\rightarrow BD}$</td>\n",
       "      <td>$r_{RD \\rightarrow BD}$</td>\n",
       "      <td>$r_{RE \\rightarrow BD}$</td>\n",
       "    </tr>\n",
       "    <tr>\n",
       "      <th>to RD</th>\n",
       "      <td>$r_{BD \\rightarrow RD}$</td>\n",
       "      <td>$r_{RD \\rightarrow RD}$</td>\n",
       "      <td>$r_{RE \\rightarrow RD}$</td>\n",
       "    </tr>\n",
       "    <tr>\n",
       "      <th>to RE</th>\n",
       "      <td>$r_{BD \\rightarrow RE}$</td>\n",
       "      <td>$r_{RD \\rightarrow RE}$</td>\n",
       "      <td>$r_{RE \\rightarrow RE}$</td>\n",
       "    </tr>\n",
       "  </tbody>\n",
       "</table>\n",
       "</div>"
      ],
      "text/plain": [
       "                       from BD                  from RD  \\\n",
       "to BD  $r_{BD \\rightarrow BD}$  $r_{RD \\rightarrow BD}$   \n",
       "to RD  $r_{BD \\rightarrow RD}$  $r_{RD \\rightarrow RD}$   \n",
       "to RE  $r_{BD \\rightarrow RE}$  $r_{RD \\rightarrow RE}$   \n",
       "\n",
       "                       from RE  \n",
       "to BD  $r_{RE \\rightarrow BD}$  \n",
       "to RD  $r_{RE \\rightarrow RD}$  \n",
       "to RE  $r_{RE \\rightarrow RE}$  "
      ]
     },
     "execution_count": 8,
     "metadata": {},
     "output_type": "execute_result"
    }
   ],
   "source": [
    "rate_labels"
   ]
  },
  {
   "cell_type": "code",
   "execution_count": 9,
   "metadata": {},
   "outputs": [
    {
     "data": {
      "text/html": [
       "<div>\n",
       "<style>\n",
       "    .dataframe thead tr:only-child th {\n",
       "        text-align: right;\n",
       "    }\n",
       "\n",
       "    .dataframe thead th {\n",
       "        text-align: left;\n",
       "    }\n",
       "\n",
       "    .dataframe tbody tr th {\n",
       "        vertical-align: top;\n",
       "    }\n",
       "</style>\n",
       "<table border=\"1\" class=\"dataframe\">\n",
       "  <thead>\n",
       "    <tr style=\"text-align: right;\">\n",
       "      <th></th>\n",
       "      <th>from BD</th>\n",
       "      <th>from RD</th>\n",
       "      <th>from RE</th>\n",
       "    </tr>\n",
       "  </thead>\n",
       "  <tbody>\n",
       "    <tr>\n",
       "      <th>to BD</th>\n",
       "      <td>$\\dot{r}_{BD \\rightarrow BD}$</td>\n",
       "      <td>$\\dot{r}_{RD \\rightarrow BD}$</td>\n",
       "      <td>$\\dot{r}_{RE \\rightarrow BD}$</td>\n",
       "    </tr>\n",
       "    <tr>\n",
       "      <th>to RD</th>\n",
       "      <td>$\\dot{r}_{BD \\rightarrow RD}$</td>\n",
       "      <td>$\\dot{r}_{RD \\rightarrow RD}$</td>\n",
       "      <td>$\\dot{r}_{RE \\rightarrow RD}$</td>\n",
       "    </tr>\n",
       "    <tr>\n",
       "      <th>to RE</th>\n",
       "      <td>$\\dot{r}_{BD \\rightarrow RE}$</td>\n",
       "      <td>$\\dot{r}_{RD \\rightarrow RE}$</td>\n",
       "      <td>$\\dot{r}_{RE \\rightarrow RE}$</td>\n",
       "    </tr>\n",
       "  </tbody>\n",
       "</table>\n",
       "</div>"
      ],
      "text/plain": [
       "                             from BD                        from RD  \\\n",
       "to BD  $\\dot{r}_{BD \\rightarrow BD}$  $\\dot{r}_{RD \\rightarrow BD}$   \n",
       "to RD  $\\dot{r}_{BD \\rightarrow RD}$  $\\dot{r}_{RD \\rightarrow RD}$   \n",
       "to RE  $\\dot{r}_{BD \\rightarrow RE}$  $\\dot{r}_{RD \\rightarrow RE}$   \n",
       "\n",
       "                             from RE  \n",
       "to BD  $\\dot{r}_{RE \\rightarrow BD}$  \n",
       "to RD  $\\dot{r}_{RE \\rightarrow RD}$  \n",
       "to RE  $\\dot{r}_{RE \\rightarrow RE}$  "
      ]
     },
     "execution_count": 9,
     "metadata": {},
     "output_type": "execute_result"
    }
   ],
   "source": [
    "rate_evol_labels"
   ]
  },
  {
   "cell_type": "markdown",
   "metadata": {},
   "source": [
    "Basic differential equations:\n",
    "\n",
    "$\\frac{dN_{BD}}{dt} = - N_{BD} \\, (r_{BD \\rightarrow RD} + r_{BD \\rightarrow RE})$"
   ]
  },
  {
   "cell_type": "markdown",
   "metadata": {},
   "source": [
    "$\\frac{dN_{RD}}{dt} = - N_{RD} \\, r_{RD \\rightarrow RE} + N_{BD} \\, r_{BD \\rightarrow RD}$"
   ]
  },
  {
   "cell_type": "markdown",
   "metadata": {},
   "source": [
    "$\\frac{dN_{RE}}{dt} = + N_{BD} \\, r_{BD \\rightarrow RE} + N_{RD} \\, r_{RD \\rightarrow RE}$"
   ]
  },
  {
   "cell_type": "code",
   "execution_count": 10,
   "metadata": {},
   "outputs": [
    {
     "data": {
      "text/html": [
       "<div>\n",
       "<style>\n",
       "    .dataframe thead tr:only-child th {\n",
       "        text-align: right;\n",
       "    }\n",
       "\n",
       "    .dataframe thead th {\n",
       "        text-align: left;\n",
       "    }\n",
       "\n",
       "    .dataframe tbody tr th {\n",
       "        vertical-align: top;\n",
       "    }\n",
       "</style>\n",
       "<table border=\"1\" class=\"dataframe\">\n",
       "  <thead>\n",
       "    <tr style=\"text-align: right;\">\n",
       "      <th></th>\n",
       "      <th>from BD</th>\n",
       "      <th>from RD</th>\n",
       "      <th>from RE</th>\n",
       "    </tr>\n",
       "  </thead>\n",
       "  <tbody>\n",
       "    <tr>\n",
       "      <th>to BD</th>\n",
       "      <td>-0.06</td>\n",
       "      <td>0.00</td>\n",
       "      <td>0.0</td>\n",
       "    </tr>\n",
       "    <tr>\n",
       "      <th>to RD</th>\n",
       "      <td>0.05</td>\n",
       "      <td>-0.05</td>\n",
       "      <td>0.0</td>\n",
       "    </tr>\n",
       "    <tr>\n",
       "      <th>to RE</th>\n",
       "      <td>0.01</td>\n",
       "      <td>0.05</td>\n",
       "      <td>-0.0</td>\n",
       "    </tr>\n",
       "  </tbody>\n",
       "</table>\n",
       "</div>"
      ],
      "text/plain": [
       "       from BD  from RD  from RE\n",
       "to BD    -0.06     0.00      0.0\n",
       "to RD     0.05    -0.05      0.0\n",
       "to RE     0.01     0.05     -0.0"
      ]
     },
     "execution_count": 10,
     "metadata": {},
     "output_type": "execute_result"
    }
   ],
   "source": [
    "# Set rates per galaxy in Gyr^{-1} at fiducial redshift\n",
    "rates = pd.DataFrame(index='to ' + states, columns='from ' + states,\n",
    "                     data=np.zeros((nStates, nStates)))\n",
    "rates['from BD']['to RD'] = 0.05\n",
    "rates['from RD']['to RE'] = 0.05\n",
    "rates['from BD']['to RE'] = 0.01\n",
    "for s in states:\n",
    "    rates['from ' + s]['to ' + s] = 0\n",
    "    rates['from ' + s]['to ' + s] = - rates['from ' + s].sum()\n",
    "rates"
   ]
  },
  {
   "cell_type": "code",
   "execution_count": 11,
   "metadata": {
    "collapsed": true
   },
   "outputs": [],
   "source": [
    "# Modelling rates as linear function of cosmic time\n",
    "#(for simplicity, should probably choose someting more appropriate)\n",
    "rates_evol = pd.DataFrame(index='to ' + states, columns='from ' + states,\n",
    "                     data=np.zeros((nStates, nStates)))\n",
    "rates_evol['from BD']['to RD'] = 0.01  # comment out this to have no evolution!"
   ]
  },
  {
   "cell_type": "code",
   "execution_count": 12,
   "metadata": {
    "collapsed": true
   },
   "outputs": [],
   "source": [
    "def rates_function(rates, rates_evol, t, t0):\n",
    "    # this used to take pandas DataFrames, but now requires numpy arrays for efficiency\n",
    "    # shortcut if no evolution\n",
    "    if rates_evol is None:\n",
    "        return rates\n",
    "    rates = rates + rates_evol * (t - t0)\n",
    "    # * For a closed model the columns of the rates matrix must sum to zero\n",
    "    #   so there is no creation/destruction of galaxies, this is enforced here.\n",
    "    # * Creation/destruction of galaxies basically means they move in to or\n",
    "    #   out of the sample given the selection criteria.\n",
    "    # * Another possibility is merging, where one galaxies is 'destroyed' in\n",
    "    #   each merger.\n",
    "    # * If one wishes to create/destroy galaxies then that could perhaps\n",
    "    #   be achieved by allowing rates to not sum to zero in each column.\n",
    "    #   However, the total numbers of galaxies moving between states are\n",
    "    #   proportional to the number currently in the initial state, which\n",
    "    #   probably doesn't make much sense for creation.\n",
    "    #   Alternatively, one could add an additional state(s) representing the pool(s)\n",
    "    #   from which galaxies are created/destroyed (but this would be evolved itself).\n",
    "    #   Or one could add additional terms in the differential equation to\n",
    "    #   describe the creation/destruction of galaxies.\n",
    "    # * Another issue is multiple selection criteria, e.g. mass bins.\n",
    "    #   These are essentially different states, and we can model transitions\n",
    "    #   between them in the same manner: in a small time a galaxy in a given state\n",
    "    #   will have a particular (potentially time dependent) probability of moving\n",
    "    #   from one mass bin to the next\n",
    "    #   (proportional to [SFR + merger accretion rate] / mass_bin_width).\n",
    "    # * In principle, the rates related to the destruction of galaxies in particular\n",
    "    #   states due to merging and the mass growth of the merger remnant are related.\n",
    "    #   In practise this would be pretty complex to manage unless we make some\n",
    "    #   strict assumptions.  For example, we could assume that only galaxies in the\n",
    "    #   same state merge (hence ~doubling their mass) and thus require the\n",
    "    #   destruction rate to be proportional to the mass bin transition rate\n",
    "    #   (where the factor depends on the width of the mass bin).\n",
    "    #   If we get too complicated, then it would make more sense to simulate a large\n",
    "    #   population of individual galaxies rather than consider a small set of states.\n",
    "    di = np.diag_indices(len(rates))\n",
    "    rates[di] = 0\n",
    "    from_sum = rates.sum(0)\n",
    "    rates[di] = -from_sum\n",
    "    return rates"
   ]
  },
  {
   "cell_type": "code",
   "execution_count": 13,
   "metadata": {},
   "outputs": [
    {
     "data": {
      "text/plain": [
       "array([[-0.10296501,  0.        ,  0.        ],\n",
       "       [ 0.09296501, -0.05      ,  0.        ],\n",
       "       [ 0.01      ,  0.05      , -0.        ]])"
      ]
     },
     "execution_count": 13,
     "metadata": {},
     "output_type": "execute_result"
    }
   ],
   "source": [
    "# test it out...\n",
    "rates_function(rates.values, rates_evol.values, t=C.age(0.3).value, t0=C.age(1.0).value)"
   ]
  },
  {
   "cell_type": "code",
   "execution_count": 14,
   "metadata": {
    "collapsed": true
   },
   "outputs": [],
   "source": [
    "def model(N, t, ratefn, rates, rates_evol, t0):\n",
    "    rates = ratefn(rates, rates_evol, t, t0)\n",
    "    return np.dot(rates, N)"
   ]
  },
  {
   "cell_type": "code",
   "execution_count": 15,
   "metadata": {},
   "outputs": [],
   "source": [
    "with open('results.pickle', 'rb') as handle:\n",
    "    results = pickle.load(handle, encoding='latin1')"
   ]
  },
  {
   "cell_type": "code",
   "execution_count": 16,
   "metadata": {
    "collapsed": true
   },
   "outputs": [],
   "source": [
    "mdata = results['m_centers'][1:]\n",
    "zdata = results['z_centers']\n",
    "tdata = C.age(zdata)\n",
    "z0 = 1.0\n",
    "t0 = C.age(z0).value"
   ]
  },
  {
   "cell_type": "code",
   "execution_count": 17,
   "metadata": {},
   "outputs": [
    {
     "data": {
      "text/latex": [
       "$[9.9519283,~8.1436823,~6.83755,~5.7868554] \\; \\mathrm{Gyr}$"
      ],
      "text/plain": [
       "<Quantity [ 9.95192827, 8.14368228, 6.83754997, 5.78685545] Gyr>"
      ]
     },
     "execution_count": 17,
     "metadata": {},
     "output_type": "execute_result"
    }
   ],
   "source": [
    "tdata"
   ]
  },
  {
   "cell_type": "code",
   "execution_count": 18,
   "metadata": {},
   "outputs": [
    {
     "name": "stdout",
     "output_type": "stream",
     "text": [
      "[10.25, 10.55, 10.85, 11.15]\n"
     ]
    }
   ],
   "source": [
    "print (mdata)"
   ]
  },
  {
   "cell_type": "code",
   "execution_count": 19,
   "metadata": {
    "collapsed": true
   },
   "outputs": [],
   "source": [
    "# select a single mass bin\n",
    "mass_bin_i = 2"
   ]
  },
  {
   "cell_type": "code",
   "execution_count": 20,
   "metadata": {},
   "outputs": [],
   "source": [
    "Ndata = pd.DataFrame(index=zdata, columns=N_labels, data=np.zeros((len(zdata), nStates)))\n",
    "i = mass_bin_i\n",
    "mresults = results['M={:.2f}'.format(mdata[i-1])]\n",
    "for key, value in mresults.items():\n",
    "    if key.startswith('N'):\n",
    "        state = '{}'.format(key[2:])\n",
    "        Ndata['$N_{' + state + '}$'] = value\n",
    "Ndata = Ndata[::-1]\n",
    "zdata = zdata[::-1]\n",
    "tdata = tdata[::-1]\n",
    "Nerr = np.sqrt(Ndata)\n",
    "nGal = Ndata.sum(1)\n",
    "Ndata = (Ndata.T / nGal).T\n",
    "Nerr = (Nerr.T / nGal).T"
   ]
  },
  {
   "cell_type": "code",
   "execution_count": 21,
   "metadata": {},
   "outputs": [
    {
     "data": {
      "text/html": [
       "<div>\n",
       "<style>\n",
       "    .dataframe thead tr:only-child th {\n",
       "        text-align: right;\n",
       "    }\n",
       "\n",
       "    .dataframe thead th {\n",
       "        text-align: left;\n",
       "    }\n",
       "\n",
       "    .dataframe tbody tr th {\n",
       "        vertical-align: top;\n",
       "    }\n",
       "</style>\n",
       "<table border=\"1\" class=\"dataframe\">\n",
       "  <thead>\n",
       "    <tr style=\"text-align: right;\">\n",
       "      <th></th>\n",
       "      <th>$N_{BD}$</th>\n",
       "      <th>$N_{RD}$</th>\n",
       "      <th>$N_{RE}$</th>\n",
       "    </tr>\n",
       "  </thead>\n",
       "  <tbody>\n",
       "    <tr>\n",
       "      <th>0.99</th>\n",
       "      <td>0.627546</td>\n",
       "      <td>0.044692</td>\n",
       "      <td>0.327762</td>\n",
       "    </tr>\n",
       "    <tr>\n",
       "      <th>0.76</th>\n",
       "      <td>0.494961</td>\n",
       "      <td>0.054446</td>\n",
       "      <td>0.450594</td>\n",
       "    </tr>\n",
       "    <tr>\n",
       "      <th>0.54</th>\n",
       "      <td>0.574155</td>\n",
       "      <td>0.058389</td>\n",
       "      <td>0.367457</td>\n",
       "    </tr>\n",
       "    <tr>\n",
       "      <th>0.31</th>\n",
       "      <td>0.525741</td>\n",
       "      <td>0.104524</td>\n",
       "      <td>0.369735</td>\n",
       "    </tr>\n",
       "  </tbody>\n",
       "</table>\n",
       "</div>"
      ],
      "text/plain": [
       "      $N_{BD}$  $N_{RD}$  $N_{RE}$\n",
       "0.99  0.627546  0.044692  0.327762\n",
       "0.76  0.494961  0.054446  0.450594\n",
       "0.54  0.574155  0.058389  0.367457\n",
       "0.31  0.525741  0.104524  0.369735"
      ]
     },
     "execution_count": 21,
     "metadata": {},
     "output_type": "execute_result"
    }
   ],
   "source": [
    "Ndata"
   ]
  },
  {
   "cell_type": "code",
   "execution_count": 22,
   "metadata": {},
   "outputs": [
    {
     "data": {
      "text/html": [
       "<div>\n",
       "<style>\n",
       "    .dataframe thead tr:only-child th {\n",
       "        text-align: right;\n",
       "    }\n",
       "\n",
       "    .dataframe thead th {\n",
       "        text-align: left;\n",
       "    }\n",
       "\n",
       "    .dataframe tbody tr th {\n",
       "        vertical-align: top;\n",
       "    }\n",
       "</style>\n",
       "<table border=\"1\" class=\"dataframe\">\n",
       "  <thead>\n",
       "    <tr style=\"text-align: right;\">\n",
       "      <th></th>\n",
       "      <th>$N_{BD}$</th>\n",
       "      <th>$N_{RD}$</th>\n",
       "      <th>$N_{RE}$</th>\n",
       "    </tr>\n",
       "  </thead>\n",
       "  <tbody>\n",
       "    <tr>\n",
       "      <th>0.99</th>\n",
       "      <td>0.019989</td>\n",
       "      <td>0.005334</td>\n",
       "      <td>0.014446</td>\n",
       "    </tr>\n",
       "    <tr>\n",
       "      <th>0.76</th>\n",
       "      <td>0.016325</td>\n",
       "      <td>0.005414</td>\n",
       "      <td>0.015576</td>\n",
       "    </tr>\n",
       "    <tr>\n",
       "      <th>0.54</th>\n",
       "      <td>0.026355</td>\n",
       "      <td>0.008405</td>\n",
       "      <td>0.021084</td>\n",
       "    </tr>\n",
       "    <tr>\n",
       "      <th>0.31</th>\n",
       "      <td>0.028639</td>\n",
       "      <td>0.012770</td>\n",
       "      <td>0.024017</td>\n",
       "    </tr>\n",
       "  </tbody>\n",
       "</table>\n",
       "</div>"
      ],
      "text/plain": [
       "      $N_{BD}$  $N_{RD}$  $N_{RE}$\n",
       "0.99  0.019989  0.005334  0.014446\n",
       "0.76  0.016325  0.005414  0.015576\n",
       "0.54  0.026355  0.008405  0.021084\n",
       "0.31  0.028639  0.012770  0.024017"
      ]
     },
     "execution_count": 22,
     "metadata": {},
     "output_type": "execute_result"
    }
   ],
   "source": [
    "Nerr"
   ]
  },
  {
   "cell_type": "code",
   "execution_count": 23,
   "metadata": {
    "collapsed": true
   },
   "outputs": [],
   "source": [
    "def calc_F(N, Nerr=None):\n",
    "    F = pd.DataFrame(index=N.index)\n",
    "    Ferr = pd.DataFrame(index=N.index)\n",
    "    F['$f_{R|D}$'] = N['$N_{RD}$'] / (N['$N_{RD}$'] + N['$N_{BD}$'])\n",
    "    F['$f_{D|R}$'] = N['$N_{RD}$'] / (N['$N_{RD}$'] + N['$N_{RE}$'])\n",
    "    if Nerr is not None:\n",
    "        NDsum = N['$N_{RD}$'] + N['$N_{BD}$']\n",
    "        dfRDdNRD = 1 / NDsum - N['$N_{RD}$'] / NDsum**2\n",
    "        dfRDdNBD = - N['$N_{RD}$'] / NDsum**2\n",
    "        Ferr['$f_{R|D}$'] = np.sqrt(dfRDdNRD**2 * Nerr['$N_{RD}$']**2 + \n",
    "                                              dfRDdNBD**2 * Nerr['$N_{BD}$']**2)\n",
    "        NRsum = N['$N_{RD}$'] + N['$N_{RE}$']\n",
    "        dfRDdNRD = 1 / NRsum - N['$N_{RD}$'] / NRsum**2\n",
    "        dfRDdNRE = - N['$N_{RD}$'] / NRsum**2\n",
    "        Ferr['$f_{D|R}$'] = np.sqrt(dfRDdNRD**2 * Nerr['$N_{RD}$']**2 + \n",
    "                                              dfRDdNRE**2 * Nerr['$N_{RE}$']**2)\n",
    "        return F, Ferr\n",
    "    else:\n",
    "        return F"
   ]
  },
  {
   "cell_type": "code",
   "execution_count": 24,
   "metadata": {},
   "outputs": [],
   "source": [
    "Fdata, Ferr = calc_F(Ndata, Nerr)"
   ]
  },
  {
   "cell_type": "code",
   "execution_count": 25,
   "metadata": {},
   "outputs": [
    {
     "data": {
      "text/html": [
       "<div>\n",
       "<style>\n",
       "    .dataframe thead tr:only-child th {\n",
       "        text-align: right;\n",
       "    }\n",
       "\n",
       "    .dataframe thead th {\n",
       "        text-align: left;\n",
       "    }\n",
       "\n",
       "    .dataframe tbody tr th {\n",
       "        vertical-align: top;\n",
       "    }\n",
       "</style>\n",
       "<table border=\"1\" class=\"dataframe\">\n",
       "  <thead>\n",
       "    <tr style=\"text-align: right;\">\n",
       "      <th></th>\n",
       "      <th>$f_{R|D}$</th>\n",
       "      <th>$f_{D|R}$</th>\n",
       "    </tr>\n",
       "  </thead>\n",
       "  <tbody>\n",
       "    <tr>\n",
       "      <th>0.99</th>\n",
       "      <td>0.066482</td>\n",
       "      <td>0.119992</td>\n",
       "    </tr>\n",
       "    <tr>\n",
       "      <th>0.76</th>\n",
       "      <td>0.099099</td>\n",
       "      <td>0.107805</td>\n",
       "    </tr>\n",
       "    <tr>\n",
       "      <th>0.54</th>\n",
       "      <td>0.092308</td>\n",
       "      <td>0.137112</td>\n",
       "    </tr>\n",
       "    <tr>\n",
       "      <th>0.31</th>\n",
       "      <td>0.165842</td>\n",
       "      <td>0.220395</td>\n",
       "    </tr>\n",
       "  </tbody>\n",
       "</table>\n",
       "</div>"
      ],
      "text/plain": [
       "      $f_{R|D}$  $f_{D|R}$\n",
       "0.99   0.066482   0.119992\n",
       "0.76   0.099099   0.107805\n",
       "0.54   0.092308   0.137112\n",
       "0.31   0.165842   0.220395"
      ]
     },
     "execution_count": 25,
     "metadata": {},
     "output_type": "execute_result"
    }
   ],
   "source": [
    "Fdata"
   ]
  },
  {
   "cell_type": "code",
   "execution_count": 26,
   "metadata": {},
   "outputs": [
    {
     "data": {
      "text/html": [
       "<div>\n",
       "<style>\n",
       "    .dataframe thead tr:only-child th {\n",
       "        text-align: right;\n",
       "    }\n",
       "\n",
       "    .dataframe thead th {\n",
       "        text-align: left;\n",
       "    }\n",
       "\n",
       "    .dataframe tbody tr th {\n",
       "        vertical-align: top;\n",
       "    }\n",
       "</style>\n",
       "<table border=\"1\" class=\"dataframe\">\n",
       "  <thead>\n",
       "    <tr style=\"text-align: right;\">\n",
       "      <th></th>\n",
       "      <th>$f_{R|D}$</th>\n",
       "      <th>$f_{D|R}$</th>\n",
       "    </tr>\n",
       "  </thead>\n",
       "  <tbody>\n",
       "    <tr>\n",
       "      <th>0.99</th>\n",
       "      <td>0.007667</td>\n",
       "      <td>0.013435</td>\n",
       "    </tr>\n",
       "    <tr>\n",
       "      <th>0.76</th>\n",
       "      <td>0.009354</td>\n",
       "      <td>0.010126</td>\n",
       "    </tr>\n",
       "    <tr>\n",
       "      <th>0.54</th>\n",
       "      <td>0.012659</td>\n",
       "      <td>0.018333</td>\n",
       "    </tr>\n",
       "    <tr>\n",
       "      <th>0.31</th>\n",
       "      <td>0.018505</td>\n",
       "      <td>0.023774</td>\n",
       "    </tr>\n",
       "  </tbody>\n",
       "</table>\n",
       "</div>"
      ],
      "text/plain": [
       "      $f_{R|D}$  $f_{D|R}$\n",
       "0.99   0.007667   0.013435\n",
       "0.76   0.009354   0.010126\n",
       "0.54   0.012659   0.018333\n",
       "0.31   0.018505   0.023774"
      ]
     },
     "execution_count": 26,
     "metadata": {},
     "output_type": "execute_result"
    }
   ],
   "source": [
    "Ferr"
   ]
  },
  {
   "cell_type": "code",
   "execution_count": 27,
   "metadata": {},
   "outputs": [],
   "source": [
    "def plot_N(N, Nerr, Nfit=None):\n",
    "    fig, ax = plt.subplots(figsize=(6, 5))\n",
    "    for j, col in enumerate(N):\n",
    "        ax.errorbar(N.index, N[col], Nerr[col], label=col, color='C{}'.format(j))\n",
    "        if Nfit is not None:\n",
    "            ax.plot(N.index, Nfit[col], '--', color='C{}'.format(j))\n",
    "        ax.set(xlabel='$z$', ylabel='$N(z)/N(z={:.1f})$'.format(z0),\n",
    "              ylim=(0, 1), title='$\\log(M/M_\\odot) \\sim {}$'.format(mdata[i]))\n",
    "    ax.legend(loc=1, ncol=3)\n",
    "    plt.tight_layout()"
   ]
  },
  {
   "cell_type": "code",
   "execution_count": 28,
   "metadata": {},
   "outputs": [
    {
     "data": {
      "image/png": "[encoded data removed]",
      "text/plain": [
       "<matplotlib.figure.Figure at 0x7f9055d76a20>"
      ]
     },
     "metadata": {},
     "output_type": "display_data"
    }
   ],
   "source": [
    "plot_N(Ndata, Nerr)"
   ]
  },
  {
   "cell_type": "code",
   "execution_count": 29,
   "metadata": {
    "collapsed": true
   },
   "outputs": [],
   "source": [
    "def plot_F(F, Ferr, Ffit=None):\n",
    "    fig, axarr = plt.subplots(1, 2, figsize=(12, 5))\n",
    "    axarr = axarr.flat\n",
    "    Fm = F.filter(regex=('.*R.D.*'))\n",
    "    Ferrm = Ferr.filter(regex=('.*R.D.*'))\n",
    "    if Ffit is not None:\n",
    "        Ffitm = Ffit.filter(regex=('.*R.D.*'))        \n",
    "    for j, col in enumerate(Fm):\n",
    "        axarr[0].errorbar(Fm.index, Fm[col], Ferrm[col], label=col, color='C{}'.format(j))\n",
    "        if Ffit is not None:\n",
    "            axarr[0].plot(Ffitm.index, Ffitm[col], '--', color='C{}'.format(j))\n",
    "    axarr[0].set(xlabel='$z$', ylabel='$f_{R|D}(z)$',\n",
    "              ylim=(0, 0.4))\n",
    "    axarr[0].legend(loc=1, ncol=4)\n",
    "    Fm = F.filter(regex=('.*D.R.*'))\n",
    "    Ferrm = Ferr.filter(regex=('.*D.R.*'))\n",
    "    if Ffit is not None:\n",
    "        Ffitm = Ffit.filter(regex=('.*D.R.*'))        \n",
    "    for j, col in enumerate(Fm):\n",
    "        axarr[1].errorbar(Fm.index, Fm[col], Ferrm[col], label=col, color='C{}'.format(j))\n",
    "        if Ffit is not None:\n",
    "            axarr[1].plot(Ffitm.index, Ffitm[col], '--', color='C{}'.format(j))\n",
    "    axarr[1].set(xlabel='$z$', ylabel='$f_{D|R}(z)$',\n",
    "              ylim=(0, 0.4))\n",
    "    axarr[1].legend(loc=1, ncol=4)\n",
    "    plt.tight_layout()"
   ]
  },
  {
   "cell_type": "code",
   "execution_count": 30,
   "metadata": {},
   "outputs": [
    {
     "data": {
      "image/png": "[encoded data removed]",
      "text/plain": [
       "<matplotlib.figure.Figure at 0x7f9053416438>"
      ]
     },
     "metadata": {},
     "output_type": "display_data"
    }
   ],
   "source": [
    "plot_F(Fdata, Ferr)"
   ]
  },
  {
   "cell_type": "code",
   "execution_count": 31,
   "metadata": {},
   "outputs": [
    {
     "data": {
      "image/png": "[encoded data removed]",
      "text/plain": [
       "<IPython.core.display.Image object>"
      ]
     },
     "execution_count": 31,
     "metadata": {},
     "output_type": "execute_result"
    }
   ],
   "source": [
    "Image('red_disk_fraction.png')"
   ]
  },
  {
   "cell_type": "code",
   "execution_count": 32,
   "metadata": {
    "collapsed": true
   },
   "outputs": [],
   "source": [
    "class logProbabilities:\n",
    "    def __init__(self, fit_N0, fit_rates, fit_rates_evol, Nmask,\n",
    "                 Ndata, Nerr, tdata, ratefn, N0_init, rates_init, rates_evol_init,\n",
    "                 t0, N_labels, rate_labels, rate_evol_labels):\n",
    "        # a boolean matrix describing which rates and evolutions to fit\n",
    "        self.fit_N0 = fit_N0.copy()\n",
    "        self.nFitN0 = self.fit_N0.values.sum()\n",
    "        self.fit_rates = fit_rates.copy()\n",
    "        self.nStates = len(fit_rates)\n",
    "        self.nFitRates = self.fit_rates.values.sum()\n",
    "        if rates_evol_init is not None:\n",
    "            self.fit_rates_evol = fit_rates_evol.copy()\n",
    "            self.nFitRatesEvol = self.fit_rates_evol.values.sum()\n",
    "        else:\n",
    "            self.fit_rates_evol = None\n",
    "            self.nFitRatesEvol = 0\n",
    "        self.pars = []\n",
    "        self.pars.extend(N_labels.values[self.fit_N0.values])\n",
    "        self.pars.extend(rate_labels.values[self.fit_rates.values])\n",
    "        if rates_evol_init is not None:\n",
    "            self.pars.extend(rate_evol_labels.values[self.fit_rates_evol.values])\n",
    "        self.pars = pd.DataFrame(self.pars, columns=['parameter'])\n",
    "        self.nPar = self.nFitN0 + self.nFitRates + self.nFitRatesEvol\n",
    "        # the measured number density, Ndata,\n",
    "        # in each state at time, tdata,\n",
    "        # with its error, Nerr\n",
    "        self.Ndata = Ndata.copy()\n",
    "        self.Nerr = Nerr.copy()        \n",
    "        self.tdata = tdata.copy()\n",
    "        # the current rate matrix is determined using ratefn\n",
    "        # from N0, the number densities at t0; rates, the rates at t0; and rates_evol\n",
    "        self.ratefn = ratefn\n",
    "        self.N0 = N0_init.copy()\n",
    "        self.rates = rates_init.copy()\n",
    "        if rates_evol_init is not None:\n",
    "            self.rates_evol = rates_evol_init.copy()\n",
    "        else:\n",
    "            self.rates_evol = None\n",
    "        self.t0 = t0\n",
    "        # Which states are actually measured\n",
    "        self.Nmask = Nmask\n",
    "\n",
    "    def split_pars(self, p):\n",
    "        start, end = (0, self.nFitN0)\n",
    "        p_N0 = p[start:end]\n",
    "        start, end = (end, end + self.nFitRates)\n",
    "        p_rates = p[start:end]\n",
    "        start, end = (end, end + self.nFitRatesEvol)\n",
    "        p_rates_evol = p[start:end]\n",
    "        return p_N0, p_rates, p_rates_evol\n",
    "        \n",
    "    def evaluate(self, t, p):\n",
    "        # update the model quantities given the current parameters\n",
    "        p_N0, p_rates, p_rates_evol = self.split_pars(p)\n",
    "        self.N0.values[self.fit_N0.values] = p_N0\n",
    "        self.rates.values[self.fit_rates.values] = p_rates\n",
    "        if self.rates_evol is not None:\n",
    "            self.rates_evol.values[self.fit_rates_evol.values] = p_rates_evol\n",
    "        # compute N at each tdata, given current parameters\n",
    "        N0 = self.N0.values\n",
    "        rates = self.rates.values\n",
    "        if self.rates_evol is None:\n",
    "            rates_evol = None\n",
    "        else:\n",
    "            rates_evol = self.rates_evol.values\n",
    "        N = odeint(model, N0, t,\n",
    "                   args=(self.ratefn, rates, rates_evol, self.t0))\n",
    "        # strip off unmeasured quantitites\n",
    "        N = N[:, self.Nmask]\n",
    "        return N\n",
    "    \n",
    "    def prior(self, inpars):\n",
    "        inshape = inpars.shape\n",
    "        inpars = inpars.reshape((-1, self.nPar))\n",
    "        lnP = np.zeros(inpars.shape[0])\n",
    "        for i, p in enumerate(inpars):\n",
    "            p_N0, p_rates, p_rates_evol = self.split_pars(p)\n",
    "            lnP[i] = stats.uniform(0, 1).logpdf(p_N0).sum()\n",
    "            lnP[i] += stats.uniform(0, 1).logpdf(p_rates).sum()\n",
    "            lnP[i] += norm_logpdf(p_rates_evol, 0, 0.1).sum()\n",
    "        return lnP.reshape(inshape[:-1])\n",
    "    \n",
    "    def likelihood(self, inpars):\n",
    "        inshape = inpars.shape\n",
    "        inpars = inpars.reshape((-1, self.nPar))\n",
    "        lnL = np.zeros(inpars.shape[0])\n",
    "        for i, p in enumerate(inpars):\n",
    "            N = self.evaluate(self.tdata, p)\n",
    "            # calculate Likelihood of computed N given Ndata and Nerr\n",
    "            lnL[i] = norm_logpdf(N, self.Ndata.values, self.Nerr.values).sum()\n",
    "        return lnL.reshape(inshape[:-1])\n",
    "    \n",
    "    def posterior(self, inpars):\n",
    "        lnL = self.likelihood(inpars)\n",
    "        lnP = self.prior(inpars)\n",
    "        return lnL + lnP\n",
    "    \n",
    "    def neg_posterior(self, inpars):\n",
    "        return -self.posterior(inpars)\n",
    "    \n",
    "    def init_pars(self, shape):\n",
    "        ip = np.zeros(shape + (self.nPar,))\n",
    "        start, end = (0, self.nFitN0)\n",
    "        ip[..., start:end] = stats.uniform.rvs(0, 1, size=shape + (self.nFitN0,))\n",
    "        start, end = (end, end + self.nFitRates)\n",
    "        ip[..., start:end] = stats.uniform.rvs(0, 1, size=shape + (self.nFitRates,))\n",
    "        start, end = (end, end + self.nFitRatesEvol)\n",
    "        ip[..., start:end] = stats.norm.rvs(0, 0.1, size=shape + (self.nFitRatesEvol,))\n",
    "        return ip"
   ]
  },
  {
   "cell_type": "code",
   "execution_count": 33,
   "metadata": {
    "collapsed": true
   },
   "outputs": [],
   "source": [
    "fit_N0 = pd.Series(index='$N_{' + states + '}$', data=np.zeros(nStates, np.bool))\n",
    "fit_rates = pd.DataFrame(index='to ' + states, columns='from ' + states,\n",
    "                         data=np.zeros((nStates, nStates), np.bool))\n",
    "fit_rates_evol = pd.DataFrame(index='to ' + states, columns='from ' + states,\n",
    "                         data=np.zeros((nStates, nStates), np.bool))\n",
    "\n",
    "# Select which parameters to fit.\n",
    "fit_N0[:] = True\n",
    "fit_rates['from BD']['to RD'] = True\n",
    "fit_rates['from RD']['to RE'] = True\n",
    "fit_rates['from BD']['to RE'] = True\n",
    "fit_rates_evol['from BD']['to RD'] = True\n",
    "fit_rates_evol['from BD']['to RE'] = True\n",
    "fit_rates_evol['from RD']['to RE'] = True"
   ]
  },
  {
   "cell_type": "code",
   "execution_count": 34,
   "metadata": {},
   "outputs": [
    {
     "data": {
      "text/plain": [
       "$N_{BD}$    True\n",
       "$N_{RD}$    True\n",
       "$N_{RE}$    True\n",
       "dtype: bool"
      ]
     },
     "execution_count": 34,
     "metadata": {},
     "output_type": "execute_result"
    }
   ],
   "source": [
    "fit_N0"
   ]
  },
  {
   "cell_type": "code",
   "execution_count": 35,
   "metadata": {},
   "outputs": [
    {
     "data": {
      "text/html": [
       "<div>\n",
       "<style>\n",
       "    .dataframe thead tr:only-child th {\n",
       "        text-align: right;\n",
       "    }\n",
       "\n",
       "    .dataframe thead th {\n",
       "        text-align: left;\n",
       "    }\n",
       "\n",
       "    .dataframe tbody tr th {\n",
       "        vertical-align: top;\n",
       "    }\n",
       "</style>\n",
       "<table border=\"1\" class=\"dataframe\">\n",
       "  <thead>\n",
       "    <tr style=\"text-align: right;\">\n",
       "      <th></th>\n",
       "      <th>from BD</th>\n",
       "      <th>from RD</th>\n",
       "      <th>from RE</th>\n",
       "    </tr>\n",
       "  </thead>\n",
       "  <tbody>\n",
       "    <tr>\n",
       "      <th>to BD</th>\n",
       "      <td>False</td>\n",
       "      <td>False</td>\n",
       "      <td>False</td>\n",
       "    </tr>\n",
       "    <tr>\n",
       "      <th>to RD</th>\n",
       "      <td>True</td>\n",
       "      <td>False</td>\n",
       "      <td>False</td>\n",
       "    </tr>\n",
       "    <tr>\n",
       "      <th>to RE</th>\n",
       "      <td>True</td>\n",
       "      <td>True</td>\n",
       "      <td>False</td>\n",
       "    </tr>\n",
       "  </tbody>\n",
       "</table>\n",
       "</div>"
      ],
      "text/plain": [
       "       from BD  from RD  from RE\n",
       "to BD    False    False    False\n",
       "to RD     True    False    False\n",
       "to RE     True     True    False"
      ]
     },
     "execution_count": 35,
     "metadata": {},
     "output_type": "execute_result"
    }
   ],
   "source": [
    "fit_rates"
   ]
  },
  {
   "cell_type": "code",
   "execution_count": 36,
   "metadata": {},
   "outputs": [
    {
     "data": {
      "text/html": [
       "<div>\n",
       "<style>\n",
       "    .dataframe thead tr:only-child th {\n",
       "        text-align: right;\n",
       "    }\n",
       "\n",
       "    .dataframe thead th {\n",
       "        text-align: left;\n",
       "    }\n",
       "\n",
       "    .dataframe tbody tr th {\n",
       "        vertical-align: top;\n",
       "    }\n",
       "</style>\n",
       "<table border=\"1\" class=\"dataframe\">\n",
       "  <thead>\n",
       "    <tr style=\"text-align: right;\">\n",
       "      <th></th>\n",
       "      <th>from BD</th>\n",
       "      <th>from RD</th>\n",
       "      <th>from RE</th>\n",
       "    </tr>\n",
       "  </thead>\n",
       "  <tbody>\n",
       "    <tr>\n",
       "      <th>to BD</th>\n",
       "      <td>False</td>\n",
       "      <td>False</td>\n",
       "      <td>False</td>\n",
       "    </tr>\n",
       "    <tr>\n",
       "      <th>to RD</th>\n",
       "      <td>True</td>\n",
       "      <td>False</td>\n",
       "      <td>False</td>\n",
       "    </tr>\n",
       "    <tr>\n",
       "      <th>to RE</th>\n",
       "      <td>True</td>\n",
       "      <td>True</td>\n",
       "      <td>False</td>\n",
       "    </tr>\n",
       "  </tbody>\n",
       "</table>\n",
       "</div>"
      ],
      "text/plain": [
       "       from BD  from RD  from RE\n",
       "to BD    False    False    False\n",
       "to RD     True    False    False\n",
       "to RE     True     True    False"
      ]
     },
     "execution_count": 36,
     "metadata": {},
     "output_type": "execute_result"
    }
   ],
   "source": [
    "fit_rates_evol"
   ]
  },
  {
   "cell_type": "code",
   "execution_count": 37,
   "metadata": {
    "collapsed": true
   },
   "outputs": [],
   "source": [
    "# Define initial values.\n",
    "# Those to be fit will vary.\n",
    "# The rest will be held fixed at their initial values.\n",
    "N0_init = pd.Series(Ndata.iloc[0], name=False)\n",
    "rates_init = pd.DataFrame(index='to ' + states, columns='from ' + states,\n",
    "                          data=np.zeros((nStates, nStates)))\n",
    "rates_evol_init = pd.DataFrame(index='to ' + states, columns='from ' + states,\n",
    "                               data=np.zeros((nStates, nStates)))"
   ]
  },
  {
   "cell_type": "code",
   "execution_count": 38,
   "metadata": {},
   "outputs": [
    {
     "data": {
      "text/plain": [
       "$N_{BD}$    0.627546\n",
       "$N_{RD}$    0.044692\n",
       "$N_{RE}$    0.327762\n",
       "dtype: float64"
      ]
     },
     "execution_count": 38,
     "metadata": {},
     "output_type": "execute_result"
    }
   ],
   "source": [
    "N0_init"
   ]
  },
  {
   "cell_type": "code",
   "execution_count": 39,
   "metadata": {},
   "outputs": [
    {
     "data": {
      "text/html": [
       "<div>\n",
       "<style>\n",
       "    .dataframe thead tr:only-child th {\n",
       "        text-align: right;\n",
       "    }\n",
       "\n",
       "    .dataframe thead th {\n",
       "        text-align: left;\n",
       "    }\n",
       "\n",
       "    .dataframe tbody tr th {\n",
       "        vertical-align: top;\n",
       "    }\n",
       "</style>\n",
       "<table border=\"1\" class=\"dataframe\">\n",
       "  <thead>\n",
       "    <tr style=\"text-align: right;\">\n",
       "      <th></th>\n",
       "      <th>from BD</th>\n",
       "      <th>from RD</th>\n",
       "      <th>from RE</th>\n",
       "    </tr>\n",
       "  </thead>\n",
       "  <tbody>\n",
       "    <tr>\n",
       "      <th>to BD</th>\n",
       "      <td>0.0</td>\n",
       "      <td>0.0</td>\n",
       "      <td>0.0</td>\n",
       "    </tr>\n",
       "    <tr>\n",
       "      <th>to RD</th>\n",
       "      <td>0.0</td>\n",
       "      <td>0.0</td>\n",
       "      <td>0.0</td>\n",
       "    </tr>\n",
       "    <tr>\n",
       "      <th>to RE</th>\n",
       "      <td>0.0</td>\n",
       "      <td>0.0</td>\n",
       "      <td>0.0</td>\n",
       "    </tr>\n",
       "  </tbody>\n",
       "</table>\n",
       "</div>"
      ],
      "text/plain": [
       "       from BD  from RD  from RE\n",
       "to BD      0.0      0.0      0.0\n",
       "to RD      0.0      0.0      0.0\n",
       "to RE      0.0      0.0      0.0"
      ]
     },
     "execution_count": 39,
     "metadata": {},
     "output_type": "execute_result"
    }
   ],
   "source": [
    "rates_init"
   ]
  },
  {
   "cell_type": "code",
   "execution_count": 40,
   "metadata": {},
   "outputs": [
    {
     "data": {
      "text/html": [
       "<div>\n",
       "<style>\n",
       "    .dataframe thead tr:only-child th {\n",
       "        text-align: right;\n",
       "    }\n",
       "\n",
       "    .dataframe thead th {\n",
       "        text-align: left;\n",
       "    }\n",
       "\n",
       "    .dataframe tbody tr th {\n",
       "        vertical-align: top;\n",
       "    }\n",
       "</style>\n",
       "<table border=\"1\" class=\"dataframe\">\n",
       "  <thead>\n",
       "    <tr style=\"text-align: right;\">\n",
       "      <th></th>\n",
       "      <th>from BD</th>\n",
       "      <th>from RD</th>\n",
       "      <th>from RE</th>\n",
       "    </tr>\n",
       "  </thead>\n",
       "  <tbody>\n",
       "    <tr>\n",
       "      <th>to BD</th>\n",
       "      <td>0.0</td>\n",
       "      <td>0.0</td>\n",
       "      <td>0.0</td>\n",
       "    </tr>\n",
       "    <tr>\n",
       "      <th>to RD</th>\n",
       "      <td>0.0</td>\n",
       "      <td>0.0</td>\n",
       "      <td>0.0</td>\n",
       "    </tr>\n",
       "    <tr>\n",
       "      <th>to RE</th>\n",
       "      <td>0.0</td>\n",
       "      <td>0.0</td>\n",
       "      <td>0.0</td>\n",
       "    </tr>\n",
       "  </tbody>\n",
       "</table>\n",
       "</div>"
      ],
      "text/plain": [
       "       from BD  from RD  from RE\n",
       "to BD      0.0      0.0      0.0\n",
       "to RD      0.0      0.0      0.0\n",
       "to RE      0.0      0.0      0.0"
      ]
     },
     "execution_count": 40,
     "metadata": {},
     "output_type": "execute_result"
    }
   ],
   "source": [
    "rates_evol_init"
   ]
  },
  {
   "cell_type": "code",
   "execution_count": 41,
   "metadata": {
    "collapsed": true
   },
   "outputs": [],
   "source": [
    "Nmask = np.ones(len(N_labels), np.bool)"
   ]
  },
  {
   "cell_type": "code",
   "execution_count": 42,
   "metadata": {},
   "outputs": [],
   "source": [
    "logProb = logProbabilities(fit_N0, fit_rates, fit_rates_evol, Nmask, Ndata, Nerr, tdata,\n",
    "                           rates_function, N0_init, rates_init, rates_evol_init,\n",
    "                           t0, N_labels, rate_labels, rate_evol_labels)"
   ]
  },
  {
   "cell_type": "code",
   "execution_count": 43,
   "metadata": {},
   "outputs": [
    {
     "data": {
      "text/html": [
       "<div>\n",
       "<style>\n",
       "    .dataframe thead tr:only-child th {\n",
       "        text-align: right;\n",
       "    }\n",
       "\n",
       "    .dataframe thead th {\n",
       "        text-align: left;\n",
       "    }\n",
       "\n",
       "    .dataframe tbody tr th {\n",
       "        vertical-align: top;\n",
       "    }\n",
       "</style>\n",
       "<table border=\"1\" class=\"dataframe\">\n",
       "  <thead>\n",
       "    <tr style=\"text-align: right;\">\n",
       "      <th></th>\n",
       "      <th>parameter</th>\n",
       "    </tr>\n",
       "  </thead>\n",
       "  <tbody>\n",
       "    <tr>\n",
       "      <th>0</th>\n",
       "      <td>$N_{BD}$</td>\n",
       "    </tr>\n",
       "    <tr>\n",
       "      <th>1</th>\n",
       "      <td>$N_{RD}$</td>\n",
       "    </tr>\n",
       "    <tr>\n",
       "      <th>2</th>\n",
       "      <td>$N_{RE}$</td>\n",
       "    </tr>\n",
       "    <tr>\n",
       "      <th>3</th>\n",
       "      <td>$r_{BD \\rightarrow RD}$</td>\n",
       "    </tr>\n",
       "    <tr>\n",
       "      <th>4</th>\n",
       "      <td>$r_{BD \\rightarrow RE}$</td>\n",
       "    </tr>\n",
       "    <tr>\n",
       "      <th>5</th>\n",
       "      <td>$r_{RD \\rightarrow RE}$</td>\n",
       "    </tr>\n",
       "    <tr>\n",
       "      <th>6</th>\n",
       "      <td>$\\dot{r}_{BD \\rightarrow RD}$</td>\n",
       "    </tr>\n",
       "    <tr>\n",
       "      <th>7</th>\n",
       "      <td>$\\dot{r}_{BD \\rightarrow RE}$</td>\n",
       "    </tr>\n",
       "    <tr>\n",
       "      <th>8</th>\n",
       "      <td>$\\dot{r}_{RD \\rightarrow RE}$</td>\n",
       "    </tr>\n",
       "  </tbody>\n",
       "</table>\n",
       "</div>"
      ],
      "text/plain": [
       "                       parameter\n",
       "0                       $N_{BD}$\n",
       "1                       $N_{RD}$\n",
       "2                       $N_{RE}$\n",
       "3        $r_{BD \\rightarrow RD}$\n",
       "4        $r_{BD \\rightarrow RE}$\n",
       "5        $r_{RD \\rightarrow RE}$\n",
       "6  $\\dot{r}_{BD \\rightarrow RD}$\n",
       "7  $\\dot{r}_{BD \\rightarrow RE}$\n",
       "8  $\\dot{r}_{RD \\rightarrow RE}$"
      ]
     },
     "execution_count": 43,
     "metadata": {},
     "output_type": "execute_result"
    }
   ],
   "source": [
    "logProb.pars"
   ]
  },
  {
   "cell_type": "code",
   "execution_count": 44,
   "metadata": {},
   "outputs": [
    {
     "data": {
      "text/plain": [
       "array([-50438.81072289,  -7179.18248653, -22544.58275159, -16171.08363565,\n",
       "        -4133.26128483])"
      ]
     },
     "execution_count": 44,
     "metadata": {},
     "output_type": "execute_result"
    }
   ],
   "source": [
    "logProb.posterior(logProb.init_pars((5,)))"
   ]
  },
  {
   "cell_type": "code",
   "execution_count": 45,
   "metadata": {
    "collapsed": true
   },
   "outputs": [],
   "source": [
    "start = [0.5, 0.1, 0.4, 0.05, 0.01, 0.01, 0.0, 0.0, 0.0]"
   ]
  },
  {
   "cell_type": "code",
   "execution_count": 46,
   "metadata": {},
   "outputs": [
    {
     "data": {
      "text/plain": [
       " final_simplex: (array([[ 0.60619354,  0.0456146 ,  0.34139984,  0.00751786,  0.14984522,\n",
       "         0.01072146,  0.00178046, -0.06316895, -0.0512073 ],\n",
       "       [ 0.60616468,  0.04561157,  0.34142579,  0.00749746,  0.14991037,\n",
       "         0.01069257,  0.00179027, -0.06318974, -0.05122663],\n",
       "       [ 0.60618485,  0.04562551,  0.34139113,  0.00745154,  0.14994188,\n",
       "         0.01068997,  0.00180831, -0.06320466, -0.05123354],\n",
       "       [ 0.60621608,  0.04561366,  0.34139069,  0.00748582,  0.14988055,\n",
       "         0.01069362,  0.00179184, -0.06317585, -0.05121472],\n",
       "       [ 0.60617884,  0.04560339,  0.34146032,  0.00752117,  0.14985313,\n",
       "         0.01075134,  0.00178574, -0.06318476, -0.05121342],\n",
       "       [ 0.60619511,  0.04559191,  0.34141541,  0.00752315,  0.14981369,\n",
       "         0.0106914 ,  0.00177872, -0.06314286, -0.05119244],\n",
       "       [ 0.60618061,  0.04559865,  0.34139833,  0.00754759,  0.14986797,\n",
       "         0.01066569,  0.00177437, -0.06315928, -0.05121124],\n",
       "       [ 0.60610784,  0.04562377,  0.34139077,  0.00745374,  0.14986485,\n",
       "         0.01069351,  0.0018041 , -0.06316903, -0.05120476],\n",
       "       [ 0.60617055,  0.04563175,  0.34144622,  0.00744648,  0.14979078,\n",
       "         0.01067275,  0.00182068, -0.06313071, -0.05117107],\n",
       "       [ 0.60618222,  0.04562189,  0.34143369,  0.00747698,  0.14991935,\n",
       "         0.01067647,  0.00178798, -0.06318711, -0.05122827]]), array([-26.92219577, -26.92219078, -26.92219034, -26.92218952,\n",
       "       -26.92218859, -26.92218167, -26.92217653, -26.92217088,\n",
       "       -26.92216697, -26.92216623]))\n",
       "           fun: -26.922195771374327\n",
       "       message: 'Optimization terminated successfully.'\n",
       "          nfev: 1589\n",
       "           nit: 1099\n",
       "        status: 0\n",
       "       success: True\n",
       "             x: array([ 0.60619354,  0.0456146 ,  0.34139984,  0.00751786,  0.14984522,\n",
       "        0.01072146,  0.00178046, -0.06316895, -0.0512073 ])"
      ]
     },
     "execution_count": 46,
     "metadata": {},
     "output_type": "execute_result"
    }
   ],
   "source": [
    "result = scipy.optimize.minimize(logProb.neg_posterior, start, tol=1e-4, method='Nelder-Mead')\n",
    "result"
   ]
  },
  {
   "cell_type": "code",
   "execution_count": 47,
   "metadata": {
    "collapsed": true
   },
   "outputs": [],
   "source": [
    "Nfit = Ndata.copy()\n",
    "Nfit[:] = logProb.evaluate(tdata, result.x)"
   ]
  },
  {
   "cell_type": "code",
   "execution_count": 48,
   "metadata": {},
   "outputs": [
    {
     "data": {
      "image/png": "[encoded data removed]",
      "text/plain": [
       "<matplotlib.figure.Figure at 0x7f90533701d0>"
      ]
     },
     "metadata": {},
     "output_type": "display_data"
    }
   ],
   "source": [
    "plot_N(Ndata, Nerr, Nfit)"
   ]
  },
  {
   "cell_type": "code",
   "execution_count": 49,
   "metadata": {
    "collapsed": true
   },
   "outputs": [],
   "source": [
    "Ffit = calc_F(Nfit)"
   ]
  },
  {
   "cell_type": "code",
   "execution_count": null,
   "metadata": {},
   "outputs": [
    {
     "data": {
      "image/png": "[encoded data removed]",
      "text/plain": [
       "<matplotlib.figure.Figure at 0x7f90514d7278>"
      ]
     },
     "metadata": {},
     "output_type": "display_data"
    }
   ],
   "source": [
    "plot_F(Fdata, Ferr, Ffit)"
   ]
  },
  {
   "cell_type": "code",
   "execution_count": null,
   "metadata": {},
   "outputs": [
    {
     "name": "stdout",
     "output_type": "stream",
     "text": [
      "Steps: 10 20 30 40 50 60 70 80 90 100 110 120"
     ]
    }
   ],
   "source": [
    "sampler = run_emcee(logProb.likelihood, logProb.prior, logProb.init_pars,\n",
    "                    ntemps=3, nwalkers=50, nsamples=1500,\n",
    "                    minlogbeta=None, nupdates=150, threads=1,\n",
    "                    outfilename='mel_data_{}'.format(mass_bin_i), saveall=True)"
   ]
  },
  {
   "cell_type": "code",
   "execution_count": null,
   "metadata": {},
   "outputs": [],
   "source": [
    "statistics = plots.print_emcee(sampler, logProb.pars['parameter'], nburn=750,\n",
    "                          model=logProb.evaluate, x=tdata, y=Ndata, yerror=Nerr,\n",
    "                          outfilename='mel_data_{}'.format(mass_bin_i))"
   ]
  }
 ],
 "metadata": {
  "_draft": {
   "nbviewer_url": "https://gist.github.com/116aeac91441c79c1988fc22fb6872f9"
  },
  "gist": {
   "data": {
    "description": "Toy galaxy transformation model ",
    "public": false
   },
   "id": "116aeac91441c79c1988fc22fb6872f9"
  },
  "hide_input": false,
  "kernelspec": {
   "display_name": "Python [conda env:py3.6]",
   "language": "python",
   "name": "conda-env-py3.6-py"
  },
  "language_info": {
   "codemirror_mode": {
    "name": "ipython",
    "version": 3
   },
   "file_extension": ".py",
   "mimetype": "text/x-python",
   "name": "python",
   "nbconvert_exporter": "python",
   "pygments_lexer": "ipython3",
   "version": "3.6.2"
  }
 },
 "nbformat": 4,
 "nbformat_minor": 1
}
